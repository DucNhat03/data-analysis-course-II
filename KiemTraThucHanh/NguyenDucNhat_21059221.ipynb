{
 "cells": [
  {
   "cell_type": "markdown",
   "id": "61bcd995",
   "metadata": {},
   "source": [
    "<p style=\"font-family: 'Amiri'; font-size: 3rem; color: #755139FF; text-align: center; margin: 0; text-shadow: 2px 2px 4px rgba(0, 0, 0, 0.3); background-color: #F2EDD7FF; padding: 5px; border-radius: 15px; border: 7px solid #755139FF; width: 95%; line-height: 1;\">KIỂM TRA THỰC HÀNH</p>\n"
   ]
  },
  {
   "cell_type": "markdown",
   "id": "daa0fef9",
   "metadata": {},
   "source": [
    "# <p style=\"font-family: 'Amiri'; font-size: 2rem; color: #755139FF; text-align: center; margin: 0; text-shadow: 2px 2px 4px rgba(0, 0, 0, 0.3); background-color: #F2EDD7FF; padding: 10px; border-radius: 20px; border: 5px solid #755139FF; width:95%\">Nguyễn Đức Nhật - 21059221</p>"
   ]
  },
  {
   "cell_type": "markdown",
   "id": "74ae2ebc",
   "metadata": {},
   "source": [
    "# <p style=\"font-family: 'Amiri'; font-size: 2rem; color: #755139FF; text-align: left; margin: 0; text-shadow: 2px 2px 4px rgba(0, 0, 0, 0.3); background-color: #F2EDD7FF; padding: 10px; border-radius: 20px; border: 5px solid #755139FF; width:95%\">Câu 1</p>"
   ]
  },
  {
   "cell_type": "markdown",
   "id": "3d892201",
   "metadata": {},
   "source": [
    "# <p style=\"font-family: 'Amiri'; font-size: 1rem; color: #755139FF; text-align: left; margin: 0; text-shadow: 2px 2px 4px rgba(0, 0, 0, 0.3); background-color: #F2EDD7FF; padding: 10px; border-radius: 20px; border: 3px solid #755139FF; width:95%\">a) Đọc dữ liệu, kiểm tra thông tin cơ bản (số dòng, kiểu dữ liệu, giá trị thiếu).</p>"
   ]
  },
  {
   "cell_type": "code",
   "execution_count": 82,
   "id": "c8d1351c",
   "metadata": {},
   "outputs": [
    {
     "data": {
      "text/html": [
       "<div>\n",
       "<style scoped>\n",
       "    .dataframe tbody tr th:only-of-type {\n",
       "        vertical-align: middle;\n",
       "    }\n",
       "\n",
       "    .dataframe tbody tr th {\n",
       "        vertical-align: top;\n",
       "    }\n",
       "\n",
       "    .dataframe thead th {\n",
       "        text-align: right;\n",
       "    }\n",
       "</style>\n",
       "<table border=\"1\" class=\"dataframe\">\n",
       "  <thead>\n",
       "    <tr style=\"text-align: right;\">\n",
       "      <th></th>\n",
       "      <th>gender</th>\n",
       "      <th>race/ethnicity</th>\n",
       "      <th>parental level of education</th>\n",
       "      <th>lunch</th>\n",
       "      <th>test preparation course</th>\n",
       "      <th>math score</th>\n",
       "      <th>reading score</th>\n",
       "      <th>writing score</th>\n",
       "    </tr>\n",
       "  </thead>\n",
       "  <tbody>\n",
       "    <tr>\n",
       "      <th>0</th>\n",
       "      <td>female</td>\n",
       "      <td>group B</td>\n",
       "      <td>bachelor's degree</td>\n",
       "      <td>standard</td>\n",
       "      <td>none</td>\n",
       "      <td>72</td>\n",
       "      <td>72</td>\n",
       "      <td>74</td>\n",
       "    </tr>\n",
       "    <tr>\n",
       "      <th>1</th>\n",
       "      <td>female</td>\n",
       "      <td>group C</td>\n",
       "      <td>some college</td>\n",
       "      <td>standard</td>\n",
       "      <td>completed</td>\n",
       "      <td>69</td>\n",
       "      <td>90</td>\n",
       "      <td>88</td>\n",
       "    </tr>\n",
       "    <tr>\n",
       "      <th>2</th>\n",
       "      <td>female</td>\n",
       "      <td>group B</td>\n",
       "      <td>master's degree</td>\n",
       "      <td>standard</td>\n",
       "      <td>none</td>\n",
       "      <td>90</td>\n",
       "      <td>95</td>\n",
       "      <td>93</td>\n",
       "    </tr>\n",
       "    <tr>\n",
       "      <th>3</th>\n",
       "      <td>male</td>\n",
       "      <td>group A</td>\n",
       "      <td>associate's degree</td>\n",
       "      <td>free/reduced</td>\n",
       "      <td>none</td>\n",
       "      <td>47</td>\n",
       "      <td>57</td>\n",
       "      <td>44</td>\n",
       "    </tr>\n",
       "    <tr>\n",
       "      <th>4</th>\n",
       "      <td>male</td>\n",
       "      <td>group C</td>\n",
       "      <td>some college</td>\n",
       "      <td>standard</td>\n",
       "      <td>none</td>\n",
       "      <td>76</td>\n",
       "      <td>78</td>\n",
       "      <td>75</td>\n",
       "    </tr>\n",
       "  </tbody>\n",
       "</table>\n",
       "</div>"
      ],
      "text/plain": [
       "   gender race/ethnicity parental level of education         lunch  \\\n",
       "0  female        group B           bachelor's degree      standard   \n",
       "1  female        group C                some college      standard   \n",
       "2  female        group B             master's degree      standard   \n",
       "3    male        group A          associate's degree  free/reduced   \n",
       "4    male        group C                some college      standard   \n",
       "\n",
       "  test preparation course  math score  reading score  writing score  \n",
       "0                    none          72             72             74  \n",
       "1               completed          69             90             88  \n",
       "2                    none          90             95             93  \n",
       "3                    none          47             57             44  \n",
       "4                    none          76             78             75  "
      ]
     },
     "execution_count": 82,
     "metadata": {},
     "output_type": "execute_result"
    }
   ],
   "source": [
    "import pandas as pd\n",
    "\n",
    "# Đọc dữ liệu từ file CSV\n",
    "df = pd.read_csv('./data/StudentsPerformance.csv') \n",
    "\n",
    "df.head()\n",
    "\n",
    "\n"
   ]
  },
  {
   "cell_type": "code",
   "execution_count": 83,
   "id": "0ea0f095",
   "metadata": {},
   "outputs": [
    {
     "name": "stdout",
     "output_type": "stream",
     "text": [
      "Số dòng và cột: (1000, 8)\n"
     ]
    }
   ],
   "source": [
    "# Kiểm tra số dòng và cột\n",
    "print(\"Số dòng và cột:\", df.shape)"
   ]
  },
  {
   "cell_type": "code",
   "execution_count": 84,
   "id": "451b0fc5",
   "metadata": {},
   "outputs": [
    {
     "name": "stdout",
     "output_type": "stream",
     "text": [
      "\n",
      "Kiểu dữ liệu các cột:\n",
      "gender                         object\n",
      "race/ethnicity                 object\n",
      "parental level of education    object\n",
      "lunch                          object\n",
      "test preparation course        object\n",
      "math score                      int64\n",
      "reading score                   int64\n",
      "writing score                   int64\n",
      "dtype: object\n"
     ]
    }
   ],
   "source": [
    "# Xem kiểu dữ liệu của từng cột\n",
    "print(\"\\nKiểu dữ liệu các cột:\")\n",
    "print(df.dtypes)\n",
    "\n",
    "\n"
   ]
  },
  {
   "cell_type": "code",
   "execution_count": 85,
   "id": "e4218e8f",
   "metadata": {},
   "outputs": [
    {
     "name": "stdout",
     "output_type": "stream",
     "text": [
      "\n",
      "Số giá trị thiếu theo từng cột:\n",
      "gender                         0\n",
      "race/ethnicity                 0\n",
      "parental level of education    0\n",
      "lunch                          0\n",
      "test preparation course        0\n",
      "math score                     0\n",
      "reading score                  0\n",
      "writing score                  0\n",
      "dtype: int64\n"
     ]
    }
   ],
   "source": [
    "# Kiểm tra các giá trị bị thiếu\n",
    "print(\"\\nSố giá trị thiếu theo từng cột:\")\n",
    "print(df.isnull().sum())\n"
   ]
  },
  {
   "cell_type": "markdown",
   "id": "b99490bf",
   "metadata": {},
   "source": [
    "# <p style=\"font-family: 'Amiri'; font-size: 1rem; color: #755139FF; text-align: left; margin: 0; text-shadow: 2px 2px 4px rgba(0, 0, 0, 0.3); background-color: #F2EDD7FF; padding: 10px; border-radius: 20px; border: 3px solid #755139FF; width:95%\">b) Mã hóa (encoding) các biến phân loại và chuẩn hóa các cột điểm số.</p>"
   ]
  },
  {
   "cell_type": "code",
   "execution_count": 86,
   "id": "24c04cf6",
   "metadata": {},
   "outputs": [
    {
     "name": "stdout",
     "output_type": "stream",
     "text": [
      "   gender  race/ethnicity  parental level of education  lunch  \\\n",
      "0       0               1                            1      1   \n",
      "1       0               2                            4      1   \n",
      "2       0               1                            3      1   \n",
      "3       1               0                            0      0   \n",
      "4       1               2                            4      1   \n",
      "\n",
      "   test preparation course  math score  reading score  writing score  \\\n",
      "0                        1    0.390024       0.193999       0.391492   \n",
      "1                        0    0.192076       1.427476       1.313269   \n",
      "2                        1    1.577711       1.770109       1.642475   \n",
      "3                        1   -1.259543      -0.833899      -1.583744   \n",
      "4                        1    0.653954       0.605158       0.457333   \n",
      "\n",
      "   average_score  performance  \n",
      "0      72.666667            2  \n",
      "1      82.333333            0  \n",
      "2      92.666667            0  \n",
      "3      49.333333            1  \n",
      "4      76.333333            2  \n"
     ]
    }
   ],
   "source": [
    "from sklearn.preprocessing import LabelEncoder, StandardScaler\n",
    "\n",
    "# 1. Tạo bản sao để tránh sửa trực tiếp vào df gốc nếu cần\n",
    "df_encoded = df.copy()\n",
    "\n",
    "# 2. Mã hóa các biến phân loại bằng LabelEncoder\n",
    "categorical_cols = ['gender', 'race/ethnicity', 'parental level of education',\n",
    "                    'lunch', 'test preparation course']\n",
    "\n",
    "le = LabelEncoder()\n",
    "for col in categorical_cols:\n",
    "    df_encoded[col] = le.fit_transform(df_encoded[col])\n",
    "\n",
    "# 3. Tạo nhãn 'performance' dựa trên điểm trung bình của 3 bài thi\n",
    "df_encoded['average_score'] = df_encoded[['math score', 'reading score', 'writing score']].mean(axis=1)\n",
    "df_encoded['performance'] = pd.cut(df_encoded['average_score'],\n",
    "                                   bins=[0, 60, 80, 100],\n",
    "                                   labels=['low', 'medium', 'high'])\n",
    "\n",
    "# 4. Mã hóa cột 'performance'\n",
    "df_encoded['performance'] = le.fit_transform(df_encoded['performance'])\n",
    "\n",
    "# 5. Chuẩn hóa các cột điểm số\n",
    "scaler = StandardScaler()\n",
    "score_cols = ['math score', 'reading score', 'writing score']\n",
    "df_encoded[score_cols] = scaler.fit_transform(df_encoded[score_cols])\n",
    "\n",
    "# 6. Xem lại dữ liệu sau xử lý\n",
    "print(df_encoded.head())\n"
   ]
  },
  {
   "cell_type": "markdown",
   "id": "511a6221",
   "metadata": {},
   "source": [
    "> Giải thích các bước:\n",
    "LabelEncoder chuyển các giá trị phân loại (chữ) thành số (0, 1, 2,...).\n",
    "\n",
    "Tạo cột performance theo quy tắc:\n",
    "\n",
    "0–60 → low\n",
    "\n",
    "60–80 → medium\n",
    "\n",
    "80–100 → high\n",
    "\n",
    "StandardScaler đưa các điểm số về phân phối chuẩn (mean = 0, std = 1), giúp huấn luyện mô hình tốt hơn."
   ]
  },
  {
   "cell_type": "markdown",
   "id": "41c34a3a",
   "metadata": {},
   "source": [
    "# <p style=\"font-family: 'Amiri'; font-size: 1rem; color: #755139FF; text-align: left; margin: 0; text-shadow: 2px 2px 4px rgba(0, 0, 0, 0.3); background-color: #F2EDD7FF; padding: 10px; border-radius: 20px; border: 3px solid #755139FF; width:95%\">c) Chia tập dữ liệu thành tập huấn luyện (80%) và kiểm tra (20%).</p>"
   ]
  },
  {
   "cell_type": "code",
   "execution_count": 87,
   "id": "c129624b",
   "metadata": {},
   "outputs": [
    {
     "name": "stdout",
     "output_type": "stream",
     "text": [
      "Kích thước tập huấn luyện: (800, 8)\n",
      "Kích thước tập kiểm tra: (200, 8)\n"
     ]
    }
   ],
   "source": [
    "from sklearn.model_selection import train_test_split\n",
    "\n",
    "# 1. Xác định đặc trưng đầu vào (X) và nhãn đầu ra (y)\n",
    "X = df_encoded.drop(['performance', 'average_score'], axis=1)  # Bỏ nhãn và cột trung bình\n",
    "y = df_encoded['performance']  # Nhãn mục tiêu đã được mã hóa\n",
    "\n",
    "# 2. Chia tập dữ liệu thành 80% huấn luyện và 20% kiểm tra\n",
    "X_train, X_test, y_train, y_test = train_test_split(\n",
    "    X, y, test_size=0.2, random_state=42, stratify=y\n",
    ")\n",
    "\n",
    "# 3. Kiểm tra kích thước các tập\n",
    "print(\"Kích thước tập huấn luyện:\", X_train.shape)\n",
    "print(\"Kích thước tập kiểm tra:\", X_test.shape)\n"
   ]
  },
  {
   "cell_type": "markdown",
   "id": "71d5d101",
   "metadata": {},
   "source": [
    "# <p style=\"font-family: 'Amiri'; font-size: 2rem; color: #755139FF; text-align: left; margin: 0; text-shadow: 2px 2px 4px rgba(0, 0, 0, 0.3); background-color: #F2EDD7FF; padding: 10px; border-radius: 20px; border: 5px solid #755139FF; width:95%\">Câu 2</p>"
   ]
  },
  {
   "cell_type": "markdown",
   "id": "cf842a1e",
   "metadata": {},
   "source": [
    "# <p style=\"font-family: 'Amiri'; font-size: 1rem; color: #755139FF; text-align: left; margin: 0; text-shadow: 2px 2px 4px rgba(0, 0, 0, 0.3); background-color: #F2EDD7FF; padding: 10px; border-radius: 20px; border: 3px solid #755139FF; width:95%\">a) Huấn luyện một mô hình phân loại RandomForestClassifier để dự đoán performance.</p>"
   ]
  },
  {
   "cell_type": "code",
   "execution_count": 88,
   "id": "73e4ae4c",
   "metadata": {},
   "outputs": [
    {
     "data": {
      "text/html": [
       "<style>#sk-container-id-4 {\n",
       "  /* Definition of color scheme common for light and dark mode */\n",
       "  --sklearn-color-text: #000;\n",
       "  --sklearn-color-text-muted: #666;\n",
       "  --sklearn-color-line: gray;\n",
       "  /* Definition of color scheme for unfitted estimators */\n",
       "  --sklearn-color-unfitted-level-0: #fff5e6;\n",
       "  --sklearn-color-unfitted-level-1: #f6e4d2;\n",
       "  --sklearn-color-unfitted-level-2: #ffe0b3;\n",
       "  --sklearn-color-unfitted-level-3: chocolate;\n",
       "  /* Definition of color scheme for fitted estimators */\n",
       "  --sklearn-color-fitted-level-0: #f0f8ff;\n",
       "  --sklearn-color-fitted-level-1: #d4ebff;\n",
       "  --sklearn-color-fitted-level-2: #b3dbfd;\n",
       "  --sklearn-color-fitted-level-3: cornflowerblue;\n",
       "\n",
       "  /* Specific color for light theme */\n",
       "  --sklearn-color-text-on-default-background: var(--sg-text-color, var(--theme-code-foreground, var(--jp-content-font-color1, black)));\n",
       "  --sklearn-color-background: var(--sg-background-color, var(--theme-background, var(--jp-layout-color0, white)));\n",
       "  --sklearn-color-border-box: var(--sg-text-color, var(--theme-code-foreground, var(--jp-content-font-color1, black)));\n",
       "  --sklearn-color-icon: #696969;\n",
       "\n",
       "  @media (prefers-color-scheme: dark) {\n",
       "    /* Redefinition of color scheme for dark theme */\n",
       "    --sklearn-color-text-on-default-background: var(--sg-text-color, var(--theme-code-foreground, var(--jp-content-font-color1, white)));\n",
       "    --sklearn-color-background: var(--sg-background-color, var(--theme-background, var(--jp-layout-color0, #111)));\n",
       "    --sklearn-color-border-box: var(--sg-text-color, var(--theme-code-foreground, var(--jp-content-font-color1, white)));\n",
       "    --sklearn-color-icon: #878787;\n",
       "  }\n",
       "}\n",
       "\n",
       "#sk-container-id-4 {\n",
       "  color: var(--sklearn-color-text);\n",
       "}\n",
       "\n",
       "#sk-container-id-4 pre {\n",
       "  padding: 0;\n",
       "}\n",
       "\n",
       "#sk-container-id-4 input.sk-hidden--visually {\n",
       "  border: 0;\n",
       "  clip: rect(1px 1px 1px 1px);\n",
       "  clip: rect(1px, 1px, 1px, 1px);\n",
       "  height: 1px;\n",
       "  margin: -1px;\n",
       "  overflow: hidden;\n",
       "  padding: 0;\n",
       "  position: absolute;\n",
       "  width: 1px;\n",
       "}\n",
       "\n",
       "#sk-container-id-4 div.sk-dashed-wrapped {\n",
       "  border: 1px dashed var(--sklearn-color-line);\n",
       "  margin: 0 0.4em 0.5em 0.4em;\n",
       "  box-sizing: border-box;\n",
       "  padding-bottom: 0.4em;\n",
       "  background-color: var(--sklearn-color-background);\n",
       "}\n",
       "\n",
       "#sk-container-id-4 div.sk-container {\n",
       "  /* jupyter's `normalize.less` sets `[hidden] { display: none; }`\n",
       "     but bootstrap.min.css set `[hidden] { display: none !important; }`\n",
       "     so we also need the `!important` here to be able to override the\n",
       "     default hidden behavior on the sphinx rendered scikit-learn.org.\n",
       "     See: https://github.com/scikit-learn/scikit-learn/issues/21755 */\n",
       "  display: inline-block !important;\n",
       "  position: relative;\n",
       "}\n",
       "\n",
       "#sk-container-id-4 div.sk-text-repr-fallback {\n",
       "  display: none;\n",
       "}\n",
       "\n",
       "div.sk-parallel-item,\n",
       "div.sk-serial,\n",
       "div.sk-item {\n",
       "  /* draw centered vertical line to link estimators */\n",
       "  background-image: linear-gradient(var(--sklearn-color-text-on-default-background), var(--sklearn-color-text-on-default-background));\n",
       "  background-size: 2px 100%;\n",
       "  background-repeat: no-repeat;\n",
       "  background-position: center center;\n",
       "}\n",
       "\n",
       "/* Parallel-specific style estimator block */\n",
       "\n",
       "#sk-container-id-4 div.sk-parallel-item::after {\n",
       "  content: \"\";\n",
       "  width: 100%;\n",
       "  border-bottom: 2px solid var(--sklearn-color-text-on-default-background);\n",
       "  flex-grow: 1;\n",
       "}\n",
       "\n",
       "#sk-container-id-4 div.sk-parallel {\n",
       "  display: flex;\n",
       "  align-items: stretch;\n",
       "  justify-content: center;\n",
       "  background-color: var(--sklearn-color-background);\n",
       "  position: relative;\n",
       "}\n",
       "\n",
       "#sk-container-id-4 div.sk-parallel-item {\n",
       "  display: flex;\n",
       "  flex-direction: column;\n",
       "}\n",
       "\n",
       "#sk-container-id-4 div.sk-parallel-item:first-child::after {\n",
       "  align-self: flex-end;\n",
       "  width: 50%;\n",
       "}\n",
       "\n",
       "#sk-container-id-4 div.sk-parallel-item:last-child::after {\n",
       "  align-self: flex-start;\n",
       "  width: 50%;\n",
       "}\n",
       "\n",
       "#sk-container-id-4 div.sk-parallel-item:only-child::after {\n",
       "  width: 0;\n",
       "}\n",
       "\n",
       "/* Serial-specific style estimator block */\n",
       "\n",
       "#sk-container-id-4 div.sk-serial {\n",
       "  display: flex;\n",
       "  flex-direction: column;\n",
       "  align-items: center;\n",
       "  background-color: var(--sklearn-color-background);\n",
       "  padding-right: 1em;\n",
       "  padding-left: 1em;\n",
       "}\n",
       "\n",
       "\n",
       "/* Toggleable style: style used for estimator/Pipeline/ColumnTransformer box that is\n",
       "clickable and can be expanded/collapsed.\n",
       "- Pipeline and ColumnTransformer use this feature and define the default style\n",
       "- Estimators will overwrite some part of the style using the `sk-estimator` class\n",
       "*/\n",
       "\n",
       "/* Pipeline and ColumnTransformer style (default) */\n",
       "\n",
       "#sk-container-id-4 div.sk-toggleable {\n",
       "  /* Default theme specific background. It is overwritten whether we have a\n",
       "  specific estimator or a Pipeline/ColumnTransformer */\n",
       "  background-color: var(--sklearn-color-background);\n",
       "}\n",
       "\n",
       "/* Toggleable label */\n",
       "#sk-container-id-4 label.sk-toggleable__label {\n",
       "  cursor: pointer;\n",
       "  display: flex;\n",
       "  width: 100%;\n",
       "  margin-bottom: 0;\n",
       "  padding: 0.5em;\n",
       "  box-sizing: border-box;\n",
       "  text-align: center;\n",
       "  align-items: start;\n",
       "  justify-content: space-between;\n",
       "  gap: 0.5em;\n",
       "}\n",
       "\n",
       "#sk-container-id-4 label.sk-toggleable__label .caption {\n",
       "  font-size: 0.6rem;\n",
       "  font-weight: lighter;\n",
       "  color: var(--sklearn-color-text-muted);\n",
       "}\n",
       "\n",
       "#sk-container-id-4 label.sk-toggleable__label-arrow:before {\n",
       "  /* Arrow on the left of the label */\n",
       "  content: \"▸\";\n",
       "  float: left;\n",
       "  margin-right: 0.25em;\n",
       "  color: var(--sklearn-color-icon);\n",
       "}\n",
       "\n",
       "#sk-container-id-4 label.sk-toggleable__label-arrow:hover:before {\n",
       "  color: var(--sklearn-color-text);\n",
       "}\n",
       "\n",
       "/* Toggleable content - dropdown */\n",
       "\n",
       "#sk-container-id-4 div.sk-toggleable__content {\n",
       "  max-height: 0;\n",
       "  max-width: 0;\n",
       "  overflow: hidden;\n",
       "  text-align: left;\n",
       "  /* unfitted */\n",
       "  background-color: var(--sklearn-color-unfitted-level-0);\n",
       "}\n",
       "\n",
       "#sk-container-id-4 div.sk-toggleable__content.fitted {\n",
       "  /* fitted */\n",
       "  background-color: var(--sklearn-color-fitted-level-0);\n",
       "}\n",
       "\n",
       "#sk-container-id-4 div.sk-toggleable__content pre {\n",
       "  margin: 0.2em;\n",
       "  border-radius: 0.25em;\n",
       "  color: var(--sklearn-color-text);\n",
       "  /* unfitted */\n",
       "  background-color: var(--sklearn-color-unfitted-level-0);\n",
       "}\n",
       "\n",
       "#sk-container-id-4 div.sk-toggleable__content.fitted pre {\n",
       "  /* unfitted */\n",
       "  background-color: var(--sklearn-color-fitted-level-0);\n",
       "}\n",
       "\n",
       "#sk-container-id-4 input.sk-toggleable__control:checked~div.sk-toggleable__content {\n",
       "  /* Expand drop-down */\n",
       "  max-height: 200px;\n",
       "  max-width: 100%;\n",
       "  overflow: auto;\n",
       "}\n",
       "\n",
       "#sk-container-id-4 input.sk-toggleable__control:checked~label.sk-toggleable__label-arrow:before {\n",
       "  content: \"▾\";\n",
       "}\n",
       "\n",
       "/* Pipeline/ColumnTransformer-specific style */\n",
       "\n",
       "#sk-container-id-4 div.sk-label input.sk-toggleable__control:checked~label.sk-toggleable__label {\n",
       "  color: var(--sklearn-color-text);\n",
       "  background-color: var(--sklearn-color-unfitted-level-2);\n",
       "}\n",
       "\n",
       "#sk-container-id-4 div.sk-label.fitted input.sk-toggleable__control:checked~label.sk-toggleable__label {\n",
       "  background-color: var(--sklearn-color-fitted-level-2);\n",
       "}\n",
       "\n",
       "/* Estimator-specific style */\n",
       "\n",
       "/* Colorize estimator box */\n",
       "#sk-container-id-4 div.sk-estimator input.sk-toggleable__control:checked~label.sk-toggleable__label {\n",
       "  /* unfitted */\n",
       "  background-color: var(--sklearn-color-unfitted-level-2);\n",
       "}\n",
       "\n",
       "#sk-container-id-4 div.sk-estimator.fitted input.sk-toggleable__control:checked~label.sk-toggleable__label {\n",
       "  /* fitted */\n",
       "  background-color: var(--sklearn-color-fitted-level-2);\n",
       "}\n",
       "\n",
       "#sk-container-id-4 div.sk-label label.sk-toggleable__label,\n",
       "#sk-container-id-4 div.sk-label label {\n",
       "  /* The background is the default theme color */\n",
       "  color: var(--sklearn-color-text-on-default-background);\n",
       "}\n",
       "\n",
       "/* On hover, darken the color of the background */\n",
       "#sk-container-id-4 div.sk-label:hover label.sk-toggleable__label {\n",
       "  color: var(--sklearn-color-text);\n",
       "  background-color: var(--sklearn-color-unfitted-level-2);\n",
       "}\n",
       "\n",
       "/* Label box, darken color on hover, fitted */\n",
       "#sk-container-id-4 div.sk-label.fitted:hover label.sk-toggleable__label.fitted {\n",
       "  color: var(--sklearn-color-text);\n",
       "  background-color: var(--sklearn-color-fitted-level-2);\n",
       "}\n",
       "\n",
       "/* Estimator label */\n",
       "\n",
       "#sk-container-id-4 div.sk-label label {\n",
       "  font-family: monospace;\n",
       "  font-weight: bold;\n",
       "  display: inline-block;\n",
       "  line-height: 1.2em;\n",
       "}\n",
       "\n",
       "#sk-container-id-4 div.sk-label-container {\n",
       "  text-align: center;\n",
       "}\n",
       "\n",
       "/* Estimator-specific */\n",
       "#sk-container-id-4 div.sk-estimator {\n",
       "  font-family: monospace;\n",
       "  border: 1px dotted var(--sklearn-color-border-box);\n",
       "  border-radius: 0.25em;\n",
       "  box-sizing: border-box;\n",
       "  margin-bottom: 0.5em;\n",
       "  /* unfitted */\n",
       "  background-color: var(--sklearn-color-unfitted-level-0);\n",
       "}\n",
       "\n",
       "#sk-container-id-4 div.sk-estimator.fitted {\n",
       "  /* fitted */\n",
       "  background-color: var(--sklearn-color-fitted-level-0);\n",
       "}\n",
       "\n",
       "/* on hover */\n",
       "#sk-container-id-4 div.sk-estimator:hover {\n",
       "  /* unfitted */\n",
       "  background-color: var(--sklearn-color-unfitted-level-2);\n",
       "}\n",
       "\n",
       "#sk-container-id-4 div.sk-estimator.fitted:hover {\n",
       "  /* fitted */\n",
       "  background-color: var(--sklearn-color-fitted-level-2);\n",
       "}\n",
       "\n",
       "/* Specification for estimator info (e.g. \"i\" and \"?\") */\n",
       "\n",
       "/* Common style for \"i\" and \"?\" */\n",
       "\n",
       ".sk-estimator-doc-link,\n",
       "a:link.sk-estimator-doc-link,\n",
       "a:visited.sk-estimator-doc-link {\n",
       "  float: right;\n",
       "  font-size: smaller;\n",
       "  line-height: 1em;\n",
       "  font-family: monospace;\n",
       "  background-color: var(--sklearn-color-background);\n",
       "  border-radius: 1em;\n",
       "  height: 1em;\n",
       "  width: 1em;\n",
       "  text-decoration: none !important;\n",
       "  margin-left: 0.5em;\n",
       "  text-align: center;\n",
       "  /* unfitted */\n",
       "  border: var(--sklearn-color-unfitted-level-1) 1pt solid;\n",
       "  color: var(--sklearn-color-unfitted-level-1);\n",
       "}\n",
       "\n",
       ".sk-estimator-doc-link.fitted,\n",
       "a:link.sk-estimator-doc-link.fitted,\n",
       "a:visited.sk-estimator-doc-link.fitted {\n",
       "  /* fitted */\n",
       "  border: var(--sklearn-color-fitted-level-1) 1pt solid;\n",
       "  color: var(--sklearn-color-fitted-level-1);\n",
       "}\n",
       "\n",
       "/* On hover */\n",
       "div.sk-estimator:hover .sk-estimator-doc-link:hover,\n",
       ".sk-estimator-doc-link:hover,\n",
       "div.sk-label-container:hover .sk-estimator-doc-link:hover,\n",
       ".sk-estimator-doc-link:hover {\n",
       "  /* unfitted */\n",
       "  background-color: var(--sklearn-color-unfitted-level-3);\n",
       "  color: var(--sklearn-color-background);\n",
       "  text-decoration: none;\n",
       "}\n",
       "\n",
       "div.sk-estimator.fitted:hover .sk-estimator-doc-link.fitted:hover,\n",
       ".sk-estimator-doc-link.fitted:hover,\n",
       "div.sk-label-container:hover .sk-estimator-doc-link.fitted:hover,\n",
       ".sk-estimator-doc-link.fitted:hover {\n",
       "  /* fitted */\n",
       "  background-color: var(--sklearn-color-fitted-level-3);\n",
       "  color: var(--sklearn-color-background);\n",
       "  text-decoration: none;\n",
       "}\n",
       "\n",
       "/* Span, style for the box shown on hovering the info icon */\n",
       ".sk-estimator-doc-link span {\n",
       "  display: none;\n",
       "  z-index: 9999;\n",
       "  position: relative;\n",
       "  font-weight: normal;\n",
       "  right: .2ex;\n",
       "  padding: .5ex;\n",
       "  margin: .5ex;\n",
       "  width: min-content;\n",
       "  min-width: 20ex;\n",
       "  max-width: 50ex;\n",
       "  color: var(--sklearn-color-text);\n",
       "  box-shadow: 2pt 2pt 4pt #999;\n",
       "  /* unfitted */\n",
       "  background: var(--sklearn-color-unfitted-level-0);\n",
       "  border: .5pt solid var(--sklearn-color-unfitted-level-3);\n",
       "}\n",
       "\n",
       ".sk-estimator-doc-link.fitted span {\n",
       "  /* fitted */\n",
       "  background: var(--sklearn-color-fitted-level-0);\n",
       "  border: var(--sklearn-color-fitted-level-3);\n",
       "}\n",
       "\n",
       ".sk-estimator-doc-link:hover span {\n",
       "  display: block;\n",
       "}\n",
       "\n",
       "/* \"?\"-specific style due to the `<a>` HTML tag */\n",
       "\n",
       "#sk-container-id-4 a.estimator_doc_link {\n",
       "  float: right;\n",
       "  font-size: 1rem;\n",
       "  line-height: 1em;\n",
       "  font-family: monospace;\n",
       "  background-color: var(--sklearn-color-background);\n",
       "  border-radius: 1rem;\n",
       "  height: 1rem;\n",
       "  width: 1rem;\n",
       "  text-decoration: none;\n",
       "  /* unfitted */\n",
       "  color: var(--sklearn-color-unfitted-level-1);\n",
       "  border: var(--sklearn-color-unfitted-level-1) 1pt solid;\n",
       "}\n",
       "\n",
       "#sk-container-id-4 a.estimator_doc_link.fitted {\n",
       "  /* fitted */\n",
       "  border: var(--sklearn-color-fitted-level-1) 1pt solid;\n",
       "  color: var(--sklearn-color-fitted-level-1);\n",
       "}\n",
       "\n",
       "/* On hover */\n",
       "#sk-container-id-4 a.estimator_doc_link:hover {\n",
       "  /* unfitted */\n",
       "  background-color: var(--sklearn-color-unfitted-level-3);\n",
       "  color: var(--sklearn-color-background);\n",
       "  text-decoration: none;\n",
       "}\n",
       "\n",
       "#sk-container-id-4 a.estimator_doc_link.fitted:hover {\n",
       "  /* fitted */\n",
       "  background-color: var(--sklearn-color-fitted-level-3);\n",
       "}\n",
       "</style><div id=\"sk-container-id-4\" class=\"sk-top-container\"><div class=\"sk-text-repr-fallback\"><pre>RandomForestClassifier(random_state=42)</pre><b>In a Jupyter environment, please rerun this cell to show the HTML representation or trust the notebook. <br />On GitHub, the HTML representation is unable to render, please try loading this page with nbviewer.org.</b></div><div class=\"sk-container\" hidden><div class=\"sk-item\"><div class=\"sk-estimator fitted sk-toggleable\"><input class=\"sk-toggleable__control sk-hidden--visually\" id=\"sk-estimator-id-4\" type=\"checkbox\" checked><label for=\"sk-estimator-id-4\" class=\"sk-toggleable__label fitted sk-toggleable__label-arrow\"><div><div>RandomForestClassifier</div></div><div><a class=\"sk-estimator-doc-link fitted\" rel=\"noreferrer\" target=\"_blank\" href=\"https://scikit-learn.org/1.6/modules/generated/sklearn.ensemble.RandomForestClassifier.html\">?<span>Documentation for RandomForestClassifier</span></a><span class=\"sk-estimator-doc-link fitted\">i<span>Fitted</span></span></div></label><div class=\"sk-toggleable__content fitted\"><pre>RandomForestClassifier(random_state=42)</pre></div> </div></div></div></div>"
      ],
      "text/plain": [
       "RandomForestClassifier(random_state=42)"
      ]
     },
     "execution_count": 88,
     "metadata": {},
     "output_type": "execute_result"
    }
   ],
   "source": [
    "from sklearn.ensemble import RandomForestClassifier\n",
    "\n",
    "# 1. Khởi tạo mô hình\n",
    "rf_model = RandomForestClassifier(random_state=42)\n",
    "\n",
    "# 2. Huấn luyện mô hình với tập huấn luyện\n",
    "rf_model.fit(X_train, y_train)\n"
   ]
  },
  {
   "cell_type": "markdown",
   "id": "53592c7d",
   "metadata": {},
   "source": [
    "\n",
    "# <p style=\"font-family: 'Amiri'; font-size: 1rem; color: #755139FF; text-align: left; margin: 0; text-shadow: 2px 2px 4px rgba(0, 0, 0, 0.3); background-color: #F2EDD7FF; padding: 10px; border-radius: 20px; border: 3px solid #755139FF; width:95%\">b) In ra ma trận nhầm lẫn (confusion matrix) và classification report.</p>"
   ]
  },
  {
   "cell_type": "code",
   "execution_count": 89,
   "id": "dbf14f8c",
   "metadata": {},
   "outputs": [
    {
     "name": "stdout",
     "output_type": "stream",
     "text": [
      "Ma trận nhầm lẫn (confusion matrix):\n",
      "[[ 37   0   2]\n",
      " [  0  58   1]\n",
      " [  0   0 102]]\n"
     ]
    }
   ],
   "source": [
    "from sklearn.metrics import confusion_matrix, classification_report\n",
    "\n",
    "# 3. Dự đoán nhãn trên tập kiểm tra\n",
    "y_pred = rf_model.predict(X_test)\n",
    "\n",
    "# 4. Ma trận nhầm lẫn\n",
    "cm = confusion_matrix(y_test, y_pred)\n",
    "print(\"Ma trận nhầm lẫn (confusion matrix):\")\n",
    "print(cm)\n",
    "\n",
    "\n"
   ]
  },
  {
   "cell_type": "code",
   "execution_count": 90,
   "id": "f7d4ca32",
   "metadata": {},
   "outputs": [
    {
     "name": "stdout",
     "output_type": "stream",
     "text": [
      "\n",
      "Classification Report:\n",
      "              precision    recall  f1-score   support\n",
      "\n",
      "         low       1.00      0.95      0.97        39\n",
      "      medium       1.00      0.98      0.99        59\n",
      "        high       0.97      1.00      0.99       102\n",
      "\n",
      "    accuracy                           0.98       200\n",
      "   macro avg       0.99      0.98      0.98       200\n",
      "weighted avg       0.99      0.98      0.98       200\n",
      "\n"
     ]
    }
   ],
   "source": [
    "# 5. Classification report (độ chính xác, precision, recall, F1)\n",
    "print(\"\\nClassification Report:\")\n",
    "print(classification_report(y_test, y_pred, target_names=['low', 'medium', 'high']))"
   ]
  },
  {
   "cell_type": "markdown",
   "id": "9d395123",
   "metadata": {},
   "source": [
    "# <p style=\"font-family: 'Amiri'; font-size: 2rem; color: #755139FF; text-align: left; margin: 0; text-shadow: 2px 2px 4px rgba(0, 0, 0, 0.3); background-color: #F2EDD7FF; padding: 10px; border-radius: 20px; border: 5px solid #755139FF; width:95%\">Câu 3</p>"
   ]
  },
  {
   "cell_type": "markdown",
   "id": "beffb549",
   "metadata": {},
   "source": [
    "\n",
    "# <p style=\"font-family: 'Amiri'; font-size: 1rem; color: #755139FF; text-align: left; margin: 0; text-shadow: 2px 2px 4px rgba(0, 0, 0, 0.3); background-color: #F2EDD7FF; padding: 10px; border-radius: 20px; border: 3px solid #755139FF; width:95%\">a) Trình bày các độ đo: Accuracy, Precision, Recall, F1-score từ classification report.</p>"
   ]
  },
  {
   "cell_type": "code",
   "execution_count": 91,
   "id": "e1255064",
   "metadata": {},
   "outputs": [
    {
     "name": "stdout",
     "output_type": "stream",
     "text": [
      "Độ chính xác (Accuracy): 98.50%\n",
      "\n",
      "Classification Report:\n",
      "\n",
      "              precision    recall  f1-score   support\n",
      "\n",
      "         low       1.00      0.95      0.97        39\n",
      "      medium       1.00      0.98      0.99        59\n",
      "        high       0.97      1.00      0.99       102\n",
      "\n",
      "    accuracy                           0.98       200\n",
      "   macro avg       0.99      0.98      0.98       200\n",
      "weighted avg       0.99      0.98      0.98       200\n",
      "\n"
     ]
    }
   ],
   "source": [
    "from sklearn.metrics import accuracy_score, classification_report\n",
    "\n",
    "# 1. Accuracy\n",
    "accuracy = accuracy_score(y_test, y_pred)\n",
    "print(\"Độ chính xác (Accuracy): {:.2f}%\".format(accuracy * 100))\n",
    "\n",
    "# 2. Classification report đã in ở câu trước:\n",
    "report = classification_report(y_test, y_pred, target_names=['low', 'medium', 'high'])\n",
    "print(\"\\nClassification Report:\\n\")\n",
    "print(report)\n"
   ]
  },
  {
   "cell_type": "markdown",
   "id": "ce7bbb2f",
   "metadata": {},
   "source": [
    "\n",
    "# <p style=\"font-family: 'Amiri'; font-size: 1rem; color: #755139FF; text-align: left; margin: 0; text-shadow: 2px 2px 4px rgba(0, 0, 0, 0.3); background-color: #F2EDD7FF; padding: 10px; border-radius: 20px; border: 3px solid #755139FF; width:95%\">b) Vẽ biểu đồ confusion matrix bằng heatmap.</p>"
   ]
  },
  {
   "cell_type": "code",
   "execution_count": 92,
   "id": "da6dbc66",
   "metadata": {},
   "outputs": [
    {
     "data": {
      "image/png": "[encoded data removed]",
      "text/plain": [
       "<Figure size 600x400 with 2 Axes>"
      ]
     },
     "metadata": {},
     "output_type": "display_data"
    }
   ],
   "source": [
    "import seaborn as sns\n",
    "import matplotlib.pyplot as plt\n",
    "from sklearn.metrics import confusion_matrix\n",
    "\n",
    "# Tính lại confusion matrix (nếu cần)\n",
    "cm = confusion_matrix(y_test, y_pred)\n",
    "\n",
    "# Khai báo nhãn lớp (label của các class)\n",
    "labels = ['low', 'medium', 'high']\n",
    "\n",
    "# Vẽ heatmap\n",
    "plt.figure(figsize=(6, 4))\n",
    "sns.heatmap(cm, annot=True, fmt='d', cmap='Blues', xticklabels=labels, yticklabels=labels)\n",
    "plt.title(\"Confusion Matrix - Random Forest\")\n",
    "plt.xlabel(\"Predicted Label\")\n",
    "plt.ylabel(\"True Label\")\n",
    "plt.tight_layout()\n",
    "plt.show()\n"
   ]
  },
  {
   "cell_type": "markdown",
   "id": "30fdf3a7",
   "metadata": {},
   "source": [
    "\n",
    "# <p style=\"font-family: 'Amiri'; font-size: 1rem; color: #755139FF; text-align: left; margin: 0; text-shadow: 2px 2px 4px rgba(0, 0, 0, 0.3); background-color: #F2EDD7FF; padding: 10px; border-radius: 20px; border: 3px solid #755139FF; width:95%\">c) Nếu mô hình có độ chính xác cao nhưng F1 thấp, phân tích nguyên nhân.</p>"
   ]
  },
  {
   "cell_type": "markdown",
   "id": "d21225b1",
   "metadata": {},
   "source": [
    "- Mô hình đạt độ chính xác 98.50%\n",
    "- F1 score cho các lớp:\n",
    "    - Lớp \"low\": F1 score là 0.97, cho thấy mô hình có khả năng phân loại lớp này rất tốt, với độ chính xác cao (1.00) và độ nhạy (recall) cao (0.95).\n",
    "    - Lớp \"medium\": F1 score là 0.99, cho thấy mô hình phân loại lớp này xuất sắc, với độ chính xác và độ nhạy đều rất cao.\n",
    "    - Lớp \"high\": F1 score là 0.99, thể hiện khả năng phân loại chính xác và hoàn hảo cho lớp này, với độ chính xác 0.97 và độ nhạy 1.00.\n",
    "> Kết Luận\n",
    "- Mô hình không chỉ có độ chính xác cao mà còn có F1 score ấn tượng cho tất cả các lớp.\n",
    "- Đây là một mô hình rất hiệu quả cho bài toán phân loại này."
   ]
  },
  {
   "cell_type": "code",
   "execution_count": null,
   "id": "892b628c",
   "metadata": {},
   "outputs": [],
   "source": []
  },
  {
   "cell_type": "markdown",
   "id": "bfa5a4c8",
   "metadata": {},
   "source": [
    "# <p style=\"font-family: 'Amiri'; font-size: 2rem; color: #755139FF; text-align: left; margin: 0; text-shadow: 2px 2px 4px rgba(0, 0, 0, 0.3); background-color: #F2EDD7FF; padding: 10px; border-radius: 20px; border: 5px solid #755139FF; width:95%\">Câu 4</p>"
   ]
  },
  {
   "cell_type": "markdown",
   "id": "9146a67c",
   "metadata": {},
   "source": [
    "\n",
    "# <p style=\"font-family: 'Amiri'; font-size: 1rem; color: #755139FF; text-align: left; margin: 0; text-shadow: 2px 2px 4px rgba(0, 0, 0, 0.3); background-color: #F2EDD7FF; padding: 10px; border-radius: 20px; border: 3px solid #755139FF; width:95%\">a) Thử nghiệm mô hình khác (ví dụ: XGBoostClassifier hoặc LogisticRegression) và so sánh độ đo.</p>"
   ]
  },
  {
   "cell_type": "code",
   "execution_count": 93,
   "id": "c7400335",
   "metadata": {},
   "outputs": [],
   "source": [
    "from sklearn.linear_model import LogisticRegression\n",
    "from xgboost import XGBClassifier\n",
    "from sklearn.metrics import classification_report, f1_score\n",
    "from sklearn.model_selection import train_test_split\n"
   ]
  },
  {
   "cell_type": "code",
   "execution_count": 94,
   "id": "e789753e",
   "metadata": {},
   "outputs": [],
   "source": [
    "X_train, X_test, y_train, y_test = train_test_split(X, y, test_size=0.2, random_state=42)\n"
   ]
  },
  {
   "cell_type": "markdown",
   "id": "d5226f74",
   "metadata": {},
   "source": [
    "> Áp dụng mô hình Logistic Regression:"
   ]
  },
  {
   "cell_type": "code",
   "execution_count": 95,
   "id": "7c6c5119",
   "metadata": {},
   "outputs": [
    {
     "name": "stdout",
     "output_type": "stream",
     "text": [
      "F1 Score Logistic Regression: 0.9958249404870902\n"
     ]
    }
   ],
   "source": [
    "log_reg = LogisticRegression(max_iter=1000)\n",
    "log_reg.fit(X_train, y_train)\n",
    "y_pred_log_reg = log_reg.predict(X_test)\n",
    "\n",
    "f1_log_reg = f1_score(y_test, y_pred_log_reg, average='macro')\n",
    "print(\"F1 Score Logistic Regression:\", f1_log_reg)\n"
   ]
  },
  {
   "cell_type": "markdown",
   "id": "eb274b89",
   "metadata": {},
   "source": [
    "> Áp dụng mô hình XGBoost:"
   ]
  },
  {
   "cell_type": "code",
   "execution_count": 96,
   "id": "dd1e7c26",
   "metadata": {},
   "outputs": [
    {
     "name": "stdout",
     "output_type": "stream",
     "text": [
      "F1 Score XGBoost: 0.9843290059746694\n"
     ]
    },
    {
     "name": "stderr",
     "output_type": "stream",
     "text": [
      "c:\\Users\\Admin\\anaconda3\\Lib\\site-packages\\xgboost\\core.py:158: UserWarning: [14:08:10] WARNING: C:\\buildkite-agent\\builds\\buildkite-windows-cpu-autoscaling-group-i-0015a694724fa8361-1\\xgboost\\xgboost-ci-windows\\src\\learner.cc:740: \n",
      "Parameters: { \"use_label_encoder\" } are not used.\n",
      "\n",
      "  warnings.warn(smsg, UserWarning)\n"
     ]
    }
   ],
   "source": [
    "xgb = XGBClassifier(use_label_encoder=False, eval_metric='mlogloss')\n",
    "xgb.fit(X_train, y_train)\n",
    "y_pred_xgb = xgb.predict(X_test)\n",
    "\n",
    "f1_xgb = f1_score(y_test, y_pred_xgb, average='macro')\n",
    "print(\"F1 Score XGBoost:\", f1_xgb)\n"
   ]
  },
  {
   "cell_type": "code",
   "execution_count": 97,
   "id": "af8a3cea",
   "metadata": {},
   "outputs": [
    {
     "data": {
      "image/png": "[encoded data removed]",
      "text/plain": [
       "<Figure size 640x480 with 1 Axes>"
      ]
     },
     "metadata": {},
     "output_type": "display_data"
    }
   ],
   "source": [
    "import matplotlib.pyplot as plt\n",
    "\n",
    "# F1 score của 2 mô hình đã có\n",
    "f1_log_reg = f1_log_reg  # giá trị F1 của Logistic Regression\n",
    "f1_xgb =f1_xgb      #  giá trị F1 của XGBoost\n",
    "\n",
    "# Tạo danh sách các mô hình và F1 score\n",
    "models = ['Logistic Regression', 'XGBoost']\n",
    "f1_scores = [f1_log_reg, f1_xgb]\n",
    "\n",
    "# Vẽ biểu đồ cột\n",
    "plt.bar(models, f1_scores, color=['blue', 'green'])\n",
    "\n",
    "# Thêm tiêu đề và nhãn\n",
    "plt.title('So sánh F1 Score giữa Logistic Regression và XGBoost')\n",
    "plt.xlabel('Mô hình')\n",
    "plt.ylabel('F1 Score')\n",
    "\n",
    "# Hiển thị giá trị F1 trên mỗi cột\n",
    "for i, score in enumerate(f1_scores):\n",
    "    plt.text(i, score + 0.01, f'{score:.2f}', ha='center')\n",
    "\n",
    "# Hiển thị biểu đồ\n",
    "plt.show()\n"
   ]
  },
  {
   "cell_type": "markdown",
   "id": "c42bc433",
   "metadata": {},
   "source": [
    "\n",
    "# <p style=\"font-family: 'Amiri'; font-size: 1rem; color: #755139FF; text-align: left; margin: 0; text-shadow: 2px 2px 4px rgba(0, 0, 0, 0.3); background-color: #F2EDD7FF; padding: 10px; border-radius: 20px; border: 3px solid #755139FF; width:95%\">b) Trình bày mô hình nào tốt hơn và vì sao, dựa trên F1-score tổng quát hoặc macro.</p>"
   ]
  },
  {
   "cell_type": "code",
   "execution_count": 98,
   "id": "7bf04276",
   "metadata": {},
   "outputs": [
    {
     "name": "stdout",
     "output_type": "stream",
     "text": [
      "Logistic Regression Scores: [0.995, 0.9969135802469135, 0.9947916666666666, 0.9958249404870902]\n",
      "XGBoost Scores: [0.985, 0.9867543358109395, 0.9822752175314212, 0.9843290059746694]\n"
     ]
    },
    {
     "data": {
      "image/png": "[encoded data removed]",
      "text/plain": [
       "<Figure size 640x480 with 1 Axes>"
      ]
     },
     "metadata": {},
     "output_type": "display_data"
    }
   ],
   "source": [
    "import matplotlib.pyplot as plt\n",
    "from sklearn.metrics import accuracy_score, precision_score, recall_score, f1_score\n",
    "\n",
    "\n",
    "y_pred_log_reg = y_pred_log_reg # Thay bằng dự đoán của Logistic Regression\n",
    "y_pred_xgb = y_pred_xgb      # Thay bằng dự đoán của XGBoost\n",
    "y_test = y_test          # Thay bằng nhãn thật từ tập kiểm tra\n",
    "\n",
    "# Tính các độ đo cho Logistic Regression\n",
    "accuracy_log_reg = accuracy_score(y_test, y_pred_log_reg)\n",
    "precision_log_reg = precision_score(y_test, y_pred_log_reg, average='macro')\n",
    "recall_log_reg = recall_score(y_test, y_pred_log_reg, average='macro')\n",
    "f1_log_reg = f1_score(y_test, y_pred_log_reg, average='macro')\n",
    "\n",
    "# Tính các độ đo cho XGBoost\n",
    "accuracy_xgb = accuracy_score(y_test, y_pred_xgb)\n",
    "precision_xgb = precision_score(y_test, y_pred_xgb, average='macro')\n",
    "recall_xgb = recall_score(y_test, y_pred_xgb, average='macro')\n",
    "f1_xgb = f1_score(y_test, y_pred_xgb, average='macro')\n",
    "\n",
    "# Danh sách các chỉ số và giá trị cho cả hai mô hình\n",
    "metrics = ['Accuracy', 'Precision', 'Recall', 'F1 Score']\n",
    "log_reg_scores = [accuracy_log_reg, precision_log_reg, recall_log_reg, f1_log_reg]\n",
    "xgb_scores = [accuracy_xgb, precision_xgb, recall_xgb, f1_xgb]\n",
    "\n",
    "# log ra\n",
    "print(\"Logistic Regression Scores:\", log_reg_scores)\n",
    "print(\"XGBoost Scores:\", xgb_scores)\n",
    "\n",
    "# Vẽ biểu đồ\n",
    "x = range(len(metrics))  # Xác định vị trí các cột\n",
    "\n",
    "plt.bar(x, log_reg_scores, width=0.4, label='Logistic Regression', color='blue', align='center')\n",
    "plt.bar(x, xgb_scores, width=0.4, label='XGBoost', color='green', align='edge')\n",
    "\n",
    "# Thêm tiêu đề và nhãn\n",
    "plt.title('So sánh độ đo giữa Logistic Regression và XGBoost')\n",
    "plt.xlabel('Độ đo')\n",
    "plt.ylabel('Giá trị')\n",
    "plt.xticks(x, metrics)\n",
    "\n",
    "# Thêm chú thích\n",
    "plt.legend()\n",
    "\n",
    "# Hiển thị biểu đồ\n",
    "plt.show()\n"
   ]
  },
  {
   "cell_type": "markdown",
   "id": "6a9c53ba",
   "metadata": {},
   "source": [
    "> So sánh:\n",
    "- Accuracy: Logistic Regression có độ chính xác cao hơn (0.995 so với 0.985), cho thấy nó dự đoán đúng nhiều mẫu hơn so với XGBoost.\n",
    "- Precision: Logistic Regression cũng có Precision tốt hơn (0.9969 so với 0.9868), có nghĩa là khi mô hình dự đoán là dương tính, nó chính xác hơn.\n",
    "- Recall: Logistic Regression có Recall cao hơn (0.9948 so với 0.9823), điều này có nghĩa là Logistic Regression phát hiện được nhiều trường hợp dương tính hơn XGBoost.\n",
    "- F1 Score: F1 score của Logistic Regression cũng cao hơn (0.9958 so với 0.9843), cho thấy mô hình này có sự cân bằng tốt hơn giữa Precision và Recall.\n",
    "\n",
    "> Kết luận:\n",
    "- Logistic Regression vượt trội hơn XGBoost ở tất cả các chỉ số độ đo, bao gồm Accuracy, Precision, Recall và F1 Score.\n",
    "- Điều này cho thấy Logistic Regression là mô hình hiệu quả hơn trong trường hợp này, mặc dù XGBoost vẫn là một mô hình mạnh mẽ."
   ]
  },
  {
   "cell_type": "markdown",
   "id": "ae70ca71",
   "metadata": {},
   "source": [
    "# <p style=\"font-family: 'Amiri'; font-size: 2rem; color: #755139FF; text-align: left; margin: 0; text-shadow: 2px 2px 4px rgba(0, 0, 0, 0.3); background-color: #F2EDD7FF; padding: 10px; border-radius: 20px; border: 5px solid #755139FF; width:95%\">Câu 5</p>"
   ]
  },
  {
   "cell_type": "markdown",
   "id": "e0ae1966",
   "metadata": {},
   "source": [
    "\n",
    "# <p style=\"font-family: 'Amiri'; font-size: 1rem; color: #755139FF; text-align: left; margin: 0; text-shadow: 2px 2px 4px rgba(0, 0, 0, 0.3); background-color: #F2EDD7FF; padding: 10px; border-radius: 20px; border: 3px solid #755139FF; width:95%\">a) Vẽ biểu đồ hộp (boxplot) so sánh phân phối điểm math score giữa các nhóm performance</p>"
   ]
  },
  {
   "cell_type": "code",
   "execution_count": 99,
   "id": "a1565543",
   "metadata": {},
   "outputs": [
    {
     "data": {
      "image/png": "[encoded data removed]",
      "text/plain": [
       "<Figure size 800x600 with 1 Axes>"
      ]
     },
     "metadata": {},
     "output_type": "display_data"
    }
   ],
   "source": [
    "import seaborn as sns\n",
    "import matplotlib.pyplot as plt\n",
    "\n",
    "# Vẽ boxplot so sánh phân phối math score giữa các nhóm performance\n",
    "plt.figure(figsize=(8, 6))\n",
    "sns.boxplot(x='performance', y='math score', data=df_encoded)\n",
    "\n",
    "# Thêm tiêu đề và nhãn\n",
    "plt.title('So sánh phân phối Math Score giữa các nhóm Performance')\n",
    "plt.xlabel('Nhóm Performance')\n",
    "plt.ylabel('Math Score (Chuẩn hóa)')\n",
    "\n",
    "# Hiển thị biểu đồ\n",
    "plt.show()\n"
   ]
  },
  {
   "cell_type": "code",
   "execution_count": null,
   "id": "9f467497",
   "metadata": {},
   "outputs": [],
   "source": []
  },
  {
   "cell_type": "markdown",
   "id": "e578ef05",
   "metadata": {},
   "source": [
    "# <p style=\"font-family: 'Amiri'; font-size: 1rem; color: #755139FF; text-align: left; margin: 0; text-shadow: 2px 2px 4px rgba(0, 0, 0, 0.3); background-color: #F2EDD7FF; padding: 10px; border-radius: 20px; border: 3px solid #755139FF; width:95%\">b) Trình bày nhận xét về mối quan hệ giữa điểm số và nhãn dự đoán</p>"
   ]
  },
  {
   "cell_type": "markdown",
   "id": "99e4c3a4",
   "metadata": {},
   "source": [
    "## Nhận xét:\n",
    "> Tương quan giữa Nhãn Dự Đoán và Điểm Số:\n",
    "- Có một mối tương quan rõ ràng giữa nhãn dự đoán (Performance) và điểm số môn toán (Math Score). Nhóm có nhãn cao hơn (nhóm 2) thường có điểm số cao hơn, cho thấy rằng nhóm này có hiệu suất học tập tốt hơn.\n",
    "> Phân Tích Phân Phối:\n",
    "- Phân phối điểm số trong từng nhóm cho thấy sự khác biệt rõ rệt. Nhóm 0 có sự phân tán lớn hơn và nhiều giá trị ngoại lệ, điều này có thể chỉ ra rằng có nhiều học sinh có kết quả học tập kém.\n",
    "- Nhóm 2 có điểm số tập trung và ít biến động, cho thấy sự đồng đều trong kết quả học tập tốt.\n",
    "> Giá trị Ngoại Lệ:\n",
    "- Sự xuất hiện của các giá trị ngoại lệ trong nhóm 0 cho thấy một số học sinh gặp khó khăn đáng kể trong môn toán. Điều này có thể là cơ sở để tìm hiểu nguyên nhân và cải thiện phương pháp giảng dạy.\n",
    "> Ý Nghĩa trong Phân Tích Dữ Liệu:\n",
    "- Các nhóm phân loại giúp xác định các đặc điểm học tập khác nhau. Việc phân tích các yếu tố ảnh hưởng đến điểm số có thể giúp cải thiện kết quả học tập cho các nhóm có nhãn thấp hơn.\n",
    "> Kết Luận và Đề Xuất:\n",
    "- Dựa trên những phát hiện này, có thể cần thêm các biện pháp hỗ trợ cho học sinh trong nhóm 0 để nâng cao điểm số và hiệu suất học tập. Các chiến lược giảng dạy có thể được điều chỉnh dựa trên phân tích này để đáp ứng nhu cầu của từng nhóm học sinh."
   ]
  },
  {
   "cell_type": "code",
   "execution_count": null,
   "id": "c6a2a785",
   "metadata": {},
   "outputs": [],
   "source": [
    "\n"
   ]
  }
 ],
 "metadata": {
  "kernelspec": {
   "display_name": "base",
   "language": "python",
   "name": "python3"
  },
  "language_info": {
   "codemirror_mode": {
    "name": "ipython",
    "version": 3
   },
   "file_extension": ".py",
   "mimetype": "text/x-python",
   "name": "python",
   "nbconvert_exporter": "python",
   "pygments_lexer": "ipython3",
   "version": "3.11.5"
  }
 },
 "nbformat": 4,
 "nbformat_minor": 5
}
