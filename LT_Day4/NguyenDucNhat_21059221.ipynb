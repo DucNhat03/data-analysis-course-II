{
 "cells": [
  {
   "cell_type": "code",
   "execution_count": null,
   "metadata": {},
   "outputs": [],
   "source": [
    "#Để lập trình hàm softmax, chúng ta cần thực hiện các bước sau:\n",
    "\n",
    "#Tính tử số: Với mỗi phần tử z_i trong vector z, tính giá trị exp(z_i).\n",
    "#Tính mẫu số: Tính tổng của tất cả các giá trị exp(z_i) đã tính ở bước 1.\n",
    "#Tính giá trị softmax: Với mỗi phần tử z_i, chia giá trị exp(z_i) cho mẫu số đã tính ở bước 2. Kết quả sẽ là giá trị softmax tương ứng với phần tử z_i đó."
   ]
  },
  {
   "cell_type": "code",
   "execution_count": 1,
   "metadata": {},
   "outputs": [],
   "source": [
    "import numpy as np\n",
    "\n",
    "def softmax(z):\n",
    "  \"\"\"\n",
    "  Hàm softmax cho vector đầu vào z.\n",
    "\n",
    "  Args:\n",
    "    z: Vector đầu vào z ∈ Rd.\n",
    "\n",
    "  Returns:\n",
    "    Vector a là kết quả của hàm softmax, với các phần tử nằm trong khoảng (0, 1) và có tổng bằng 1.\n",
    "  \"\"\"\n",
    "\n",
    "  # Tính tử số.\n",
    "  exp_z = np.exp(z)\n",
    "\n",
    "  # Tính mẫu số.\n",
    "  sum_exp_z = np.sum(exp_z)\n",
    "\n",
    "  # Tính giá trị softmax.\n",
    "  a = exp_z / sum_exp_z\n",
    "\n",
    "  return a"
   ]
  },
  {
   "cell_type": "code",
   "execution_count": 4,
   "metadata": {},
   "outputs": [
    {
     "name": "stdout",
     "output_type": "stream",
     "text": [
      "[0.09003057 0.24472847 0.66524096]\n",
      "Tong cua cac phan tu: 1.0\n"
     ]
    }
   ],
   "source": [
    "z = np.array([1, 2, 3])\n",
    "a = softmax(z)\n",
    "print(a)\n",
    "print(\"Tong cua cac phan tu:\",np.sum(a))"
   ]
  },
  {
   "cell_type": "code",
   "execution_count": 5,
   "metadata": {},
   "outputs": [],
   "source": [
    "import numpy as np\n",
    "\n",
    "def softmax_stable(z):\n",
    "  \"\"\"\n",
    "  Hàm softmax với kỹ thuật chống tràn số.\n",
    "\n",
    "  Args:\n",
    "    z: Mảng một chiều đầu vào z (score vector).\n",
    "\n",
    "  Returns:\n",
    "    Mảng một chiều chứa các giá trị a_i theo công thức softmax_stable.\n",
    "  \"\"\"\n",
    "  c = np.max(z)\n",
    "  z_stable = z - c\n",
    "  exp_z = np.exp(z_stable)\n",
    "  sum_exp_z = np.sum(exp_z)\n",
    "  a = exp_z / sum_exp_z\n",
    "  return a"
   ]
  },
  {
   "cell_type": "code",
   "execution_count": 6,
   "metadata": {},
   "outputs": [
    {
     "name": "stdout",
     "output_type": "stream",
     "text": [
      "Kết quả softmax_stable: [0.09003057 0.24472847 0.66524096]\n",
      "Kết quả softmax thường: [nan nan nan]\n"
     ]
    },
    {
     "name": "stderr",
     "output_type": "stream",
     "text": [
      "C:\\Users\\Admin\\AppData\\Local\\Temp\\ipykernel_6696\\655182213.py:15: RuntimeWarning: overflow encountered in exp\n",
      "  exp_z = np.exp(z)\n",
      "C:\\Users\\Admin\\AppData\\Local\\Temp\\ipykernel_6696\\655182213.py:21: RuntimeWarning: invalid value encountered in divide\n",
      "  a = exp_z / sum_exp_z\n"
     ]
    }
   ],
   "source": [
    "z = np.array([1000, 1001, 1002])  # Các giá trị lớn\n",
    "\n",
    "a_stable = softmax_stable(z)\n",
    "a_normal = softmax(z)\n",
    "\n",
    "print(\"Kết quả softmax_stable:\", a_stable)\n",
    "print(\"Kết quả softmax thường:\", a_normal)"
   ]
  },
  {
   "cell_type": "code",
   "execution_count": 7,
   "metadata": {},
   "outputs": [],
   "source": [
    "import numpy as np\n",
    "\n",
    "def softmax_matrix_stable(Z):\n",
    "  \"\"\"\n",
    "  Calculates the stable softmax for each row of a matrix.\n",
    "\n",
    "  Args:\n",
    "    Z: A 2D numpy array (matrix) where each row represents scores for a data point.\n",
    "\n",
    "  Returns:\n",
    "    A 2D numpy array (matrix) A of the same shape as Z, where each row contains \n",
    "    the softmax probabilities for the corresponding row in Z.\n",
    "  \"\"\"\n",
    "  c = np.max(Z, axis=1, keepdims=True)  # Get max for each row, keepdims for broadcasting\n",
    "  exp_Z = np.exp(Z - c)              # Subtract max and exponentiate\n",
    "  sum_exp_Z = np.sum(exp_Z, axis=1, keepdims=True)  # Sum for each row\n",
    "  return exp_Z / sum_exp_Z            # Normalize to get softmax probabilities"
   ]
  },
  {
   "cell_type": "code",
   "execution_count": 8,
   "metadata": {},
   "outputs": [
    {
     "name": "stdout",
     "output_type": "stream",
     "text": [
      "[[0.09003057 0.24472847 0.66524096]\n",
      " [0.09003057 0.24472847 0.66524096]\n",
      " [0.09003057 0.24472847 0.66524096]]\n"
     ]
    }
   ],
   "source": [
    "Z = np.array([[1, 2, 3],\n",
    "              [4, 5, 6],\n",
    "              [7, 8, 9]])\n",
    "\n",
    "A = softmax_matrix_stable(Z)\n",
    "print(A)"
   ]
  },
  {
   "cell_type": "code",
   "execution_count": 10,
   "metadata": {},
   "outputs": [
    {
     "name": "stdout",
     "output_type": "stream",
     "text": [
      "[[0.09003057 0.24472847 0.66524096]\n",
      " [0.09003057 0.24472847 0.66524096]\n",
      " [0.09003057 0.24472847 0.66524096]]\n"
     ]
    }
   ],
   "source": [
    "import numpy as np\n",
    "\n",
    "def softmax_matrix_stable(Z):\n",
    "  c = np.max(Z, axis=1, keepdims=True); return np.exp(Z - c) / np.sum(np.exp(Z - c), axis=1, keepdims=True)\n",
    "\n",
    "Z = np.array([[1, 2, 3],\n",
    "              [4, 5, 6],\n",
    "              [7, 8, 9]])\n",
    "A = softmax_matrix_stable(Z)\n",
    "print(A)"
   ]
  },
  {
   "cell_type": "code",
   "execution_count": null,
   "metadata": {},
   "outputs": [],
   "source": [
    "#https://how.dev/answers/implementation-of-relu-in-pytorch\n",
    "#BT: https://www.kaggle.com/code/hafizwaqas101/pytorch-with-relu-sigmoid-tah/notebook"
   ]
  },
  {
   "cell_type": "markdown",
   "metadata": {},
   "source": [
    "PyTorch with ReLU, Sigmoid, Tah"
   ]
  },
  {
   "cell_type": "code",
   "execution_count": null,
   "metadata": {},
   "outputs": [],
   "source": [
    "# Import các thư viện cần thiết\n",
    "import torch\n",
    "import torch.nn as nn\n",
    "import torch.nn.functional as F\n",
    "import torchvision\n",
    "import torchvision.transforms as transforms\n",
    "import matplotlib.pyplot as plt\n",
    "import numpy as np"
   ]
  },
  {
   "cell_type": "code",
   "execution_count": null,
   "metadata": {},
   "outputs": [],
   "source": [
    "# Đặt seed cho tính tái lập\n",
    "torch.manual_seed(2)"
   ]
  },
  {
   "cell_type": "code",
   "execution_count": null,
   "metadata": {},
   "outputs": [],
   "source": [
    "# ===============================\n",
    "# 1. Chuẩn bị dữ liệu\n",
    "# ===============================\n",
    "\n",
    "# Thực hiện các phép biến đổi ảnh\n",
    "transform = transforms.Compose([\n",
    "    transforms.ToTensor(),\n",
    "    transforms.Normalize((0.5,), (0.5,))\n",
    "])\n",
    "\n",
    "# Tải dataset MNIST\n",
    "train_dataset = torchvision.datasets.MNIST(root='./data', \n",
    "                                           train=True, \n",
    "                                           transform=transform, \n",
    "                                           download=True)\n",
    "\n",
    "test_dataset = torchvision.datasets.MNIST(root='./data', \n",
    "                                          train=False, \n",
    "                                          transform=transform, \n",
    "                                          download=True)\n",
    "\n",
    "train_loader = torch.utils.data.DataLoader(dataset=train_dataset, \n",
    "                                           batch_size=64, \n",
    "                                           shuffle=True)\n",
    "\n",
    "test_loader = torch.utils.data.DataLoader(dataset=test_dataset, \n",
    "                                          batch_size=64, \n",
    "                                          shuffle=False)\n"
   ]
  },
  {
   "cell_type": "code",
   "execution_count": null,
   "metadata": {},
   "outputs": [],
   "source": [
    "# ===============================\n",
    "# 2. Xây dựng Model Neural Network\n",
    "# ===============================\n",
    "\n",
    "class NeuralNet(nn.Module):\n",
    "    def __init__(self):\n",
    "        super(NeuralNet, self).__init__()\n",
    "        self.fc1 = nn.Linear(28*28, 128)  # Input layer\n",
    "        self.fc2 = nn.Linear(128, 64)     # Hidden layer\n",
    "        self.fc3 = nn.Linear(64, 10)      # Output layer\n",
    "    \n",
    "    def forward(self, x):\n",
    "        x = x.view(-1, 28*28)             # Flatten ảnh 28x28 thành vector 784\n",
    "        x = F.relu(self.fc1(x))           # Activation ReLU\n",
    "        x = torch.sigmoid(self.fc2(x))    # Activation Sigmoid\n",
    "        x = torch.tanh(self.fc3(x))       # Activation Tanh\n",
    "        return x\n",
    "\n",
    "# Khởi tạo model\n",
    "model = NeuralNet()\n"
   ]
  },
  {
   "cell_type": "code",
   "execution_count": null,
   "metadata": {},
   "outputs": [],
   "source": [
    "\n",
    "# ===============================\n",
    "# 3. Loss và Optimizer\n",
    "# ===============================\n",
    "\n",
    "criterion = nn.CrossEntropyLoss()\n",
    "optimizer = torch.optim.Adam(model.parameters(), lr=0.001)"
   ]
  },
  {
   "cell_type": "code",
   "execution_count": null,
   "metadata": {},
   "outputs": [],
   "source": [
    "\n",
    "# ===============================\n",
    "# 4. Huấn luyện Model\n",
    "# ===============================\n",
    "\n",
    "num_epochs = 5\n",
    "train_loss_list = []\n",
    "\n",
    "for epoch in range(num_epochs):\n",
    "    epoch_loss = 0\n",
    "    for images, labels in train_loader:\n",
    "        # Forward pass\n",
    "        outputs = model(images)\n",
    "        loss = criterion(outputs, labels)\n",
    "        \n",
    "        # Backward and optimize\n",
    "        optimizer.zero_grad()\n",
    "        loss.backward()\n",
    "        optimizer.step()\n",
    "        \n",
    "        epoch_loss += loss.item()\n",
    "    \n",
    "    average_loss = epoch_loss / len(train_loader)\n",
    "    train_loss_list.append(average_loss)\n",
    "    print(f'Epoch [{epoch+1}/{num_epochs}], Loss: {average_loss:.4f}')"
   ]
  },
  {
   "cell_type": "code",
   "execution_count": null,
   "metadata": {},
   "outputs": [],
   "source": [
    "# ===============================\n",
    "# 5. Đánh giá Model\n",
    "# ===============================\n",
    "\n",
    "model.eval()\n",
    "correct = 0\n",
    "total = 0\n",
    "with torch.no_grad():\n",
    "    for images, labels in test_loader:\n",
    "        outputs = model(images)\n",
    "        _, predicted = torch.max(outputs.data, 1)\n",
    "        total += labels.size(0)\n",
    "        correct += (predicted == labels).sum().item()\n",
    "\n",
    "accuracy = 100 * correct / total\n",
    "print(f'\\nAccuracy of the model on the test images: {accuracy:.2f}%')"
   ]
  },
  {
   "cell_type": "code",
   "execution_count": null,
   "metadata": {},
   "outputs": [],
   "source": [
    "# ===============================\n",
    "# 6. Hiển thị Loss\n",
    "# ===============================\n",
    "\n",
    "plt.plot(train_loss_list, label='Training Loss')\n",
    "plt.xlabel('Epoch')\n",
    "plt.ylabel('Loss')\n",
    "plt.title('Training Loss over Epochs')\n",
    "plt.legend()\n",
    "plt.grid(True)\n",
    "plt.show()"
   ]
  },
  {
   "cell_type": "code",
   "execution_count": null,
   "metadata": {},
   "outputs": [],
   "source": [
    "# ===============================\n",
    "# 7. Hiển thị Một Số Hình Ảnh Mẫu\n",
    "# ===============================\n",
    "\n",
    "examples = iter(test_loader)\n",
    "example_data, example_targets = examples.next()\n",
    "\n",
    "for i in range(6):\n",
    "    plt.subplot(2, 3, i+1)\n",
    "    plt.imshow(example_data[i][0], cmap='gray')\n",
    "    plt.title(f'Label: {example_targets[i]}')\n",
    "    plt.axis('off')\n",
    "plt.show()"
   ]
  },
  {
   "cell_type": "code",
   "execution_count": null,
   "metadata": {},
   "outputs": [],
   "source": [
    "# ===============================\n",
    "# 8. Lưu Model\n",
    "# ===============================\n",
    "torch.save(model.state_dict(), 'mnist_model.pth')\n",
    "print(\"\\nModel đã được lưu thành công dưới tên 'mnist_model.pth'.\")\n"
   ]
  },
  {
   "cell_type": "markdown",
   "metadata": {},
   "source": [
    "PyTorch Practice 10"
   ]
  },
  {
   "cell_type": "code",
   "execution_count": null,
   "metadata": {},
   "outputs": [],
   "source": [
    "# Code Modules, Classes & Functions\n",
    "import numpy as np,pandas as pd,pylab as pl\n",
    "import h5py,torch\n",
    "from tensorflow import image as timage\n",
    "from torchvision import transforms,utils\n",
    "from torch.utils.data import DataLoader as tdl\n",
    "from torch.utils.data import Dataset as tds\n",
    "import torch.nn as tnn\n",
    "from IPython.core.magic import register_line_magic\n",
    "dev=torch.device(\"cuda:0\" if torch.cuda.is_available() else \"cpu\")"
   ]
  },
  {
   "cell_type": "code",
   "execution_count": null,
   "metadata": {},
   "outputs": [],
   "source": [
    "class TData(tds):\n",
    "    def __init__(self,X,y):   \n",
    "        self.X=torch.tensor(X,dtype=torch.float32)\n",
    "        self.y=torch.tensor(y,dtype=torch.int32)\n",
    "    def __getitem__(self,index):\n",
    "        train_img,train_lbl=self.X[index],self.y[index]\n",
    "        return train_img,train_lbl\n",
    "    def __len__(self):\n",
    "        return self.y.shape[0]"
   ]
  },
  {
   "cell_type": "code",
   "execution_count": null,
   "metadata": {},
   "outputs": [],
   "source": [
    "class VGG19(tnn.Module):\n",
    "    def __init__(self,num_classes):\n",
    "        super(VGG19,self).__init__()    \n",
    "        self.block1=tnn.Sequential(\n",
    "            tnn.Conv2d(in_channels=3,out_channels=64,\n",
    "                       kernel_size=(3,3),stride=(1,1),\n",
    "                       padding=1), \n",
    "            tnn.ReLU(),\n",
    "            tnn.Conv2d(in_channels=64,out_channels=64,\n",
    "                       kernel_size=(3,3),stride=(1,1),\n",
    "                       padding=1),\n",
    "            tnn.ReLU(),\n",
    "            tnn.MaxPool2d(kernel_size=(2,2),stride=(2,2)) )        \n",
    "        self.block2=tnn.Sequential(\n",
    "            tnn.Conv2d(in_channels=64,out_channels=128,\n",
    "                       kernel_size=(3,3),stride=(1,1),\n",
    "                       padding=1),\n",
    "            tnn.ReLU(),\n",
    "            tnn.Conv2d(in_channels=128,out_channels=128,\n",
    "                       kernel_size=(3,3),stride=(1,1),\n",
    "                       padding=1),\n",
    "            tnn.ReLU(),\n",
    "            tnn.MaxPool2d(kernel_size=(2,2),stride=(2,2)) )      \n",
    "        self.block3=tnn.Sequential(\n",
    "            tnn.Conv2d(in_channels=128,out_channels=256,\n",
    "                       kernel_size=(3,3),stride=(1,1),\n",
    "                       padding=1),\n",
    "            tnn.ReLU(),\n",
    "            tnn.Conv2d(in_channels=256,out_channels=256,\n",
    "                       kernel_size=(3,3),stride=(1,1),\n",
    "                       padding=1),\n",
    "            tnn.ReLU(),        \n",
    "            tnn.Conv2d(in_channels=256,out_channels=256,\n",
    "                       kernel_size=(3,3),stride=(1,1),\n",
    "                       padding=1),\n",
    "            tnn.ReLU(),\n",
    "            tnn.Conv2d(in_channels=256,out_channels=256,\n",
    "                       kernel_size=(3,3),stride=(1,1),\n",
    "                      padding=1),\n",
    "            tnn.ReLU(),\n",
    "            tnn.MaxPool2d(kernel_size=(2,2),stride=(2,2)) )         \n",
    "        self.block4=tnn.Sequential(   \n",
    "            tnn.Conv2d(in_channels=256,out_channels=512,\n",
    "                       kernel_size=(3,3),stride=(1,1),\n",
    "                       padding=1),\n",
    "            tnn.ReLU(),        \n",
    "            tnn.Conv2d(in_channels=512,out_channels=512,\n",
    "                       kernel_size=(3,3),stride=(1,1),\n",
    "                       padding=1),\n",
    "            tnn.ReLU(),        \n",
    "            tnn.Conv2d(in_channels=512,out_channels=512,\n",
    "                       kernel_size=(3,3),stride=(1,1),\n",
    "                       padding=1),\n",
    "            tnn.ReLU(),\n",
    "            tnn.Conv2d(in_channels=512,out_channels=512,\n",
    "                       kernel_size=(3,3),stride=(1,1),\n",
    "                       padding=1),\n",
    "            tnn.ReLU(),   \n",
    "            tnn.MaxPool2d(kernel_size=(2,2),stride=(2,2)) )       \n",
    "        self.block5=tnn.Sequential(\n",
    "            tnn.Conv2d(in_channels=512,out_channels=512,\n",
    "                       kernel_size=(3,3),stride=(1,1),\n",
    "                       padding=1),\n",
    "            tnn.ReLU(),            \n",
    "            tnn.Conv2d(in_channels=512,out_channels=512,\n",
    "                       kernel_size=(3,3),stride=(1,1),\n",
    "                       padding=1),\n",
    "            tnn.ReLU(),            \n",
    "            tnn.Conv2d(in_channels=512,out_channels=512,\n",
    "                       kernel_size=(3,3),stride=(1,1),\n",
    "                       padding=1),\n",
    "            tnn.ReLU(),\n",
    "            tnn.Conv2d(in_channels=512,out_channels=512,\n",
    "                       kernel_size=(3,3),stride=(1,1),\n",
    "                       padding=1),\n",
    "            tnn.ReLU(),   \n",
    "            tnn.MaxPool2d(kernel_size=(2,2),stride=(2,2)) )        \n",
    "        self.classifier=tnn.Sequential(\n",
    "            tnn.Linear(512,4096),\n",
    "            tnn.ReLU(True),\n",
    "            tnn.Linear(4096,4096),\n",
    "            tnn.ReLU(True),\n",
    "            tnn.Linear(4096,num_classes) )            \n",
    "        for m in self.modules():\n",
    "            if isinstance(m,torch.nn.Conv2d):\n",
    "                m.weight.detach().normal_(0,.05)\n",
    "                if m.bias is not None:\n",
    "                    m.bias.detach().zero_()\n",
    "            elif isinstance(m, torch.nn.Linear):\n",
    "                m.weight.detach().normal_(0,.05)\n",
    "                m.bias.detach().detach().zero_()      \n",
    "    def forward(self,x):\n",
    "        x=self.block1(x)\n",
    "        x=self.block2(x)\n",
    "        x=self.block3(x)\n",
    "        x=self.block4(x)\n",
    "        x=self.block5(x)\n",
    "        logits=self.classifier(x.view(-1,512))\n",
    "        probs=tnn.functional.softmax(logits,dim=1)\n",
    "        return logits,probs"
   ]
  },
  {
   "cell_type": "code",
   "execution_count": null,
   "metadata": {},
   "outputs": [],
   "source": [
    "pixels=48\n",
    "fpath='../input/tf-cats-vs-dogs/'\n",
    "f='CatDogImages.h5'\n",
    "f=h5py.File(fpath+f,'r')\n",
    "keys=list(f.keys()); print(keys)\n",
    "x_test=np.array(f[keys[0]])\n",
    "y_test=np.array(f[keys[1]]).reshape(-1)\n",
    "x_train=np.array(f[keys[2]])\n",
    "y_train=np.array(f[keys[3]]).reshape(-1)\n",
    "[[x_train,x_valid,x_test],\n",
    " [y_train,y_valid,y_test]]=\\\n",
    "resize_display(x_train,y_train,x_test,y_test,pixels)"
   ]
  },
  {
   "cell_type": "markdown",
   "metadata": {},
   "source": [
    "random_seed=1; batch_size=128;\n",
    "train=TData(x_train,y_train)\n",
    "valid=TData(x_valid,y_valid)\n",
    "test=TData(x_test,y_test)\n",
    "train_loader=tdl(dataset=train,\n",
    "                  batch_size=batch_size,shuffle=True)\n",
    "valid_loader=tdl(dataset=valid,\n",
    "                  batch_size=batch_size,shuffle=True)\n",
    "test_loader=tdl(dataset=test,\n",
    "                 batch_size=batch_size,shuffle=False)\n",
    "display_examples(valid_loader,pixels)"
   ]
  },
  {
   "cell_type": "code",
   "execution_count": null,
   "metadata": {},
   "outputs": [],
   "source": [
    "torch.manual_seed(random_seed)\n",
    "num_classes=2; learning_rate=.001\n",
    "model=VGG19(num_classes); model.to(dev)\n",
    "optimizer=torch.optim.Adam(model.parameters(),lr=learning_rate)"
   ]
  },
  {
   "cell_type": "code",
   "execution_count": null,
   "metadata": {},
   "outputs": [],
   "source": [
    "%train_run 5"
   ]
  },
  {
   "cell_type": "code",
   "execution_count": null,
   "metadata": {},
   "outputs": [],
   "source": [
    "%print_acc 1"
   ]
  },
  {
   "cell_type": "code",
   "execution_count": null,
   "metadata": {},
   "outputs": [
    {
     "name": "stdout",
     "output_type": "stream",
     "text": [
      "Nhung so chia het cho 5 trong mang la:  [5, 15, 35, 55]\n",
      "Test dao nguoc mang:  None\n",
      "test random:  [0.66536603]\n"
     ]
    }
   ],
   "source": [
    "import numpy as np\n",
    "import pandas as pd\n",
    "def soChiaHetCho5(n):\n",
    "    if ( n % 5 == 0):\n",
    "        return True\n",
    "    else: \n",
    "        return False\n",
    "\n",
    "def sapXepMang(array):\n",
    "    return np.sort(array)\n",
    "\n",
    "arraySample = [4, 5, 6, 22, 55, 99, 15, 35, 11]\n",
    "\n",
    "def timSoChiaHetCho5(arrr):\n",
    "    arr = arrr\n",
    "    arrChiaHetCho5 = []\n",
    "    for i in arr:\n",
    "        if (soChiaHetCho5(i) == True):\n",
    "            arrChiaHetCho5.append(i)\n",
    "    print(\"Nhung so chia het cho 5 trong mang la: \", arrChiaHetCho5)    \n",
    "\n",
    "    \n",
    "arrayChiaHetCho5 = timSoChiaHetCho5(sapXepMang(arraySample))\n",
    "\n",
    "\n",
    "def daoNguocMangThuCong(arr):\n",
    "    return np.flip(arr)\n",
    "\n",
    "\n",
    "print(\"Test dao nguoc mang: \", daoNguocMangThuCong(arrayChiaHetCho5))\n",
    "\n",
    "\n",
    "tesstRandom = np.random.random((1))\n",
    "print(\"test random: \", tesstRandom)\n",
    "\n",
    "\n",
    "\n",
    "\n"
   ]
  },
  {
   "cell_type": "code",
   "execution_count": 88,
   "metadata": {},
   "outputs": [
    {
     "name": "stdout",
     "output_type": "stream",
     "text": [
      "===============================\n",
      "Chuc mung Nghia da du dieu kien nhap ngu\n"
     ]
    }
   ],
   "source": [
    "def vongQuayMayMan(conSoMayMan):\n",
    "    arr = np.random.randint(1, 100, 10)\n",
    "    print(\"Xo so hom nay: \", arr)\n",
    "\n",
    "    nguoiMayMan = conSoMayMan\n",
    "    for i in range(0, len(arr)):\n",
    "        if (arr[i] == nguoiMayMan):\n",
    "            print(\"Chuc mung ban da trung so roi!\")\n",
    "            print(\"Con so may man cua ban la\", nguoiMayMan)\n",
    "\n",
    "\n",
    "def kiemSoatTreEm(agee, name):\n",
    "    age = 18\n",
    "    agePerson = agee\n",
    "    if(agePerson < age):\n",
    "        print(\"Xin chao\", name, \", rat xin loi nhung ban chua du tuoi!\")\n",
    "    else:\n",
    "        print(\"OK, chuc mung \", name)\n",
    "\n",
    " \n",
    "print(\"===============================\")\n",
    "def person():\n",
    "    age = int(input(\"Nhap do tuoi cua ban: \"))\n",
    "    name = input(\"Nhap ten cua ban: \")\n",
    "    conSoMayMan = int(input(\"Nhap con so may man cua ban: \"))\n",
    "    kiemSoatTreEm(age, name)\n",
    "    vongQuayMayMan(conSoMayMan)\n",
    "\n",
    "# print(\"Kiem tra person co du tuoi khong?\")\n",
    "# person()\n",
    "\n",
    "\n",
    "\n",
    "def kiemTraSucKhoeNghiaVu(name, age, heigh, weigh):\n",
    "    muc1 = True\n",
    "    muc2 = True\n",
    "    muc3 = True \n",
    "    if (age < 18):\n",
    "        muc1 = False\n",
    "    if (heigh < 140 or weigh > 100):\n",
    "        muc2 = muc3 = False\n",
    "    if (muc1 == True & muc2 == True & muc3 == True):\n",
    "        print(\"Chuc mung\", name, \"da du dieu kien nhap ngu\")\n",
    "    else:\n",
    "        print(name,\"chua du dieu kien nhap ngu, cam on da den day\")\n",
    "\n",
    "\n",
    "\n",
    "kiemTraSucKhoeNghiaVu(\"Nghia\", 19, 180, 50)\n",
    "\n",
    "\n"
   ]
  },
  {
   "cell_type": "code",
   "execution_count": null,
   "metadata": {},
   "outputs": [],
   "source": []
  },
  {
   "cell_type": "code",
   "execution_count": null,
   "metadata": {},
   "outputs": [],
   "source": []
  },
  {
   "cell_type": "code",
   "execution_count": null,
   "metadata": {},
   "outputs": [],
   "source": []
  }
 ],
 "metadata": {
  "kernelspec": {
   "display_name": "base",
   "language": "python",
   "name": "python3"
  },
  "language_info": {
   "codemirror_mode": {
    "name": "ipython",
    "version": 3
   },
   "file_extension": ".py",
   "mimetype": "text/x-python",
   "name": "python",
   "nbconvert_exporter": "python",
   "pygments_lexer": "ipython3",
   "version": "3.11.5"
  }
 },
 "nbformat": 4,
 "nbformat_minor": 2
}
