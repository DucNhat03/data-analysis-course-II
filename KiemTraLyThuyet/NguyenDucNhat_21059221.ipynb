{
 "cells": [
  {
   "cell_type": "markdown",
   "id": "d35fe958",
   "metadata": {},
   "source": [
    "# <p style=\"font-family: 'Amiri'; font-size: 2rem; color: #755139FF; text-align: center; margin: 0; text-shadow: 2px 2px 4px rgba(0, 0, 0, 0.3); background-color: #F2EDD7FF; padding: 10px; border-radius: 20px; border: 5px solid #755139FF; width:95%\">Nguyễn Đức Nhật - 21059221</p>"
   ]
  },
  {
   "cell_type": "markdown",
   "id": "1c1c67da",
   "metadata": {},
   "source": [
    "# <p style=\"font-family: 'Amiri'; font-size: 2rem; color: #755139FF; text-align: left; margin: 0; text-shadow: 2px 2px 4px rgba(0, 0, 0, 0.3); background-color: #F2EDD7FF; padding: 10px; border-radius: 20px; border: 5px solid #755139FF; width:95%\">Câu 1: Lý thuyết và phân tích mô hình</p>"
   ]
  },
  {
   "cell_type": "markdown",
   "id": "906bc2b0",
   "metadata": {},
   "source": [
    "# <p style=\"font-family: 'Amiri'; font-size: 1rem; color: #755139FF; text-align: left; margin: 0; text-shadow: 2px 2px 4px rgba(0, 0, 0, 0.3); background-color: #F2EDD7FF; padding: 10px; border-radius: 20px; border: 3px solid #755139FF; width:95%\">a) Ý nghĩa và cách tính các độ đo.</p>\n",
    "\n",
    "- **Accuracy**: Tỷ lệ số dự đoán đúng trên tổng số mẫu. \n",
    "  $$Accuracy = \\frac{TP + TN}{TP + FP + TN + FN}$$\n",
    "\n",
    "- **Precision**: Trong số mẫu được dự đoán là Positive, có bao nhiêu mẫu thật sự là Positive. \n",
    "  $$Precision = \\frac{TP}{TP + FP}$$\n",
    "\n",
    "- **Recall**: Trong số các mẫu thật sự là Positive, có bao nhiêu mẫu được mô hình phát hiện. \n",
    "  $$Recall = \\frac{TP}{TP + FN}$$\n",
    "\n",
    "- **F1-score**: Trung bình điều hòa giữa Precision và Recall. \n",
    "  $$F1 = 2 * \\frac{Precision * Recall}{Precision + Recall}$$"
   ]
  },
  {
   "cell_type": "markdown",
   "id": "658c368e",
   "metadata": {},
   "source": [
    "\n",
    "# <p style=\"font-family: 'Amiri'; font-size: 1rem; color: #755139FF; text-align: left; margin: 0; text-shadow: 2px 2px 4px rgba(0, 0, 0, 0.3); background-color: #F2EDD7FF; padding: 10px; border-radius: 20px; border: 3px solid #755139FF; width:95%\">b) Tính toán các độ đo với số liệu.</p>"
   ]
  },
  {
   "cell_type": "code",
   "execution_count": 2,
   "id": "723ba9f4",
   "metadata": {},
   "outputs": [
    {
     "name": "stdout",
     "output_type": "stream",
     "text": [
      "Accuracy: 0.85\n",
      "Precision: 0.80\n",
      "Recall: 0.89\n",
      "F1 Score: 0.84\n"
     ]
    }
   ],
   "source": [
    "\n",
    "TP = 80\n",
    "FP = 20\n",
    "TN = 90\n",
    "FN = 10\n",
    "\n",
    "accuracy = (TP + TN) / (TP + FP + TN + FN)\n",
    "precision = TP / (TP + FP)\n",
    "recall = TP / (TP + FN)\n",
    "f1_score = 2 * (precision * recall) / (precision + recall)\n",
    "\n",
    "print(f\"Accuracy: {accuracy:.2f}\")\n",
    "print(f\"Precision: {precision:.2f}\")\n",
    "print(f\"Recall: {recall:.2f}\")\n",
    "print(f\"F1 Score: {f1_score:.2f}\")\n",
    "\n"
   ]
  },
  {
   "cell_type": "markdown",
   "id": "3c95c148",
   "metadata": {},
   "source": [
    "> **Nhận xét:** Mô hình có Accuracy khá cao (85%), Precision và Recall đều ở mức tốt. F1-score cân bằng hai yếu tố nên đánh giá toàn diện mô hình."
   ]
  },
  {
   "cell_type": "markdown",
   "id": "90b5bcec",
   "metadata": {},
   "source": [
    "# <p style=\"font-family: 'Amiri'; font-size: 2rem; color: #755139FF; text-align: left; margin: 0; text-shadow: 2px 2px 4px rgba(0, 0, 0, 0.3); background-color: #F2EDD7FF; padding: 10px; border-radius: 20px; border: 5px solid #755139FF; width:95%\">Câu 2: Dự đoán giá trị</p>"
   ]
  },
  {
   "cell_type": "markdown",
   "id": "ed5ba88a",
   "metadata": {},
   "source": [
    "\n",
    "# <p style=\"font-family: 'Amiri'; font-size: 1rem; color: #755139FF; text-align: left; margin: 0; text-shadow: 2px 2px 4px rgba(0, 0, 0, 0.3); background-color: #F2EDD7FF; padding: 10px; border-radius: 20px; border: 3px solid #755139FF; width:95%\">a) Tính các độ đo MAE, RMSE, R².</p>"
   ]
  },
  {
   "cell_type": "code",
   "execution_count": 4,
   "id": "eab2888d",
   "metadata": {},
   "outputs": [
    {
     "name": "stdout",
     "output_type": "stream",
     "text": [
      "Mean Absolute Error: 0.44\n",
      "Mean Squared Error: 0.21\n",
      "Root Mean Squared Error: 0.46\n",
      "R-squared: 0.82\n"
     ]
    }
   ],
   "source": [
    "\n",
    "import numpy as np\n",
    "from sklearn.metrics import mean_absolute_error, mean_squared_error, r2_score\n",
    "\n",
    "y_true = [3.0, 4.5, 5.0, 6.0, 3.5]\n",
    "y_pred = [2.5, 4.0, 5.2, 5.5, 3.0]\n",
    "\n",
    "mae = mean_absolute_error(y_true, y_pred)\n",
    "mse = mean_squared_error(y_true, y_pred)\n",
    "rmse = np.sqrt(mse)\n",
    "r2 = r2_score(y_true, y_pred)\n",
    "\n",
    "print(f\"Mean Absolute Error: {mae:.2f}\")\n",
    "print(f\"Mean Squared Error: {mse:.2f}\")\n",
    "print(f\"Root Mean Squared Error: {rmse:.2f}\")\n",
    "print(f\"R-squared: {r2:.2f}\")\n"
   ]
  },
  {
   "cell_type": "markdown",
   "id": "8f048603",
   "metadata": {},
   "source": [
    "\n",
    "# <p style=\"font-family: 'Amiri'; font-size: 1rem; color: #755139FF; text-align: left; margin: 0; text-shadow: 2px 2px 4px rgba(0, 0, 0, 0.3); background-color: #F2EDD7FF; padding: 10px; border-radius: 20px; border: 3px solid #755139FF; width:95%\">b) Nhận xét.</p>\n",
    "### Nhận xét mô hình hồi quy dựa trên các độ đo\n",
    "\n",
    "#### 1. MAE = 0.44 triệu VND\n",
    "- Trung bình mỗi dự đoán lệch **0.44 triệu VND** so với giá trị thực tế.\n",
    "- Đây là sai số **tương đối nhỏ**, cho thấy mô hình có khả năng **ước lượng khá chính xác giá nhà**.\n",
    "\n",
    "#### 2. RMSE = 0.46 triệu VND\n",
    "- RMSE phạt nặng hơn những sai số lớn so với MAE.\n",
    "- Vì RMSE xấp xỉ MAE, điều này cho thấy **không có sai số quá lớn nào** trong các dự đoán.\n",
    "- Mô hình **ổn định và không bị ảnh hưởng bởi outliers**.\n",
    "\n",
    "#### 3. R² (R-squared) = 0.82\n",
    "- Hệ số xác định R² = 0.82 nghĩa là **82% phương sai của dữ liệu đầu ra (giá nhà)** được mô hình giải thích bằng các đặc trưng đầu vào (diện tích, số phòng).\n",
    "- Đây là một giá trị **cao**, cho thấy mô hình **phù hợp khá tốt với dữ liệu**.\n",
    "\n",
    "---\n",
    "\n",
    "> ### Kết luận tổng thể:\n",
    "- Mô hình có **hiệu suất dự đoán tốt**, sai số nhỏ, ổn định, và giải thích được phần lớn biến động giá nhà.\n",
    "- Với **MAE & RMSE đều nhỏ hơn 0.5 triệu VND** và **R² > 0.8**, mô hình này **đủ tin cậy để sử dụng trong thực tế** *(đặc biệt nếu mức giá nhà trung bình cao hơn nhiều so với sai số này)*.\n"
   ]
  },
  {
   "cell_type": "markdown",
   "id": "c2c2b20d",
   "metadata": {},
   "source": [
    "\n",
    "# <p style=\"font-family: 'Amiri'; font-size: 2rem; color: #755139FF; text-align: left; margin: 0; text-shadow: 2px 2px 4px rgba(0, 0, 0, 0.3); background-color: #F2EDD7FF; padding: 10px; border-radius: 20px; border: 5px solid #755139FF; width:95%\">Câu 3: Ứng dụng độ đo để chọn mô hình</p>"
   ]
  },
  {
   "cell_type": "markdown",
   "id": "ba143854",
   "metadata": {},
   "source": [
    "# <p style=\"font-family: 'Amiri'; font-size: 1rem; color: #755139FF; text-align: left; margin: 0; text-shadow: 2px 2px 4px rgba(0, 0, 0, 0.3); background-color: #F2EDD7FF; padding: 10px; border-radius: 20px; border: 3px solid #755139FF; width:95%\">a) Nếu ưu tiên phát hiện bệnh nhân càng nhiều càng tốt</p>\n",
    "\n",
    "> Chọn mô hình M3 vì có **Recall = 0.95** cao nhất trong các mô hình.  \n",
    "\n",
    "    - Điều này rất quan trọng trong bối cảnh y tế, vì giúp giảm tối đa khả năng bỏ sót bệnh nhân có bệnh \n",
    "    – tức là giảm số lượng False Negative, những người thực sự mắc bệnh nhưng bị mô hình dự đoán nhầm là không mắc.  \n",
    "\n",
    "    - Một mô hình có Recall cao sẽ ưu tiên bắt được càng nhiều ca bệnh càng tốt, ngay cả khi phải đánh đổi bằng việc chấp nhận một vài cảnh báo sai (False Positive).\n"
   ]
  },
  {
   "cell_type": "markdown",
   "id": "5d486e1a",
   "metadata": {},
   "source": [
    "# <p style=\"font-family: 'Amiri'; font-size: 1rem; color: #755139FF; text-align: left; margin: 0; text-shadow: 2px 2px 4px rgba(0, 0, 0, 0.3); background-color: #F2EDD7FF; padding: 10px; border-radius: 20px; border: 3px solid #755139FF; width:95%\">b) Nếu muốn cân bằng giữa Precision và Recall</p>\n",
    "\n",
    "> Chọn mô hình M3 vì có **F1-score = 0.92** cao nhất trong 3 mô hình.  \n",
    "\n",
    "    - F1-score là độ đo tổng hợp giữa Precision và Recall, đặc biệt hữu ích khi cần cân bằng giữa việc phát hiện đúng bệnh nhân và tránh báo động giả.  \n",
    "\n",
    "    - Giá trị F1-score cao cho thấy mô hình vừa chính xác khi phát hiện ca bệnh (Precision cao), vừa bắt được nhiều ca bệnh (Recall cao), giúp mô hình đáng tin cậy hơn trong thực tế y tế.\n"
   ]
  },
  {
   "cell_type": "markdown",
   "id": "117c61c6",
   "metadata": {},
   "source": [
    "# <p style=\"font-family: 'Amiri'; font-size: 2rem; color: #755139FF; text-align: left; margin: 0; text-shadow: 2px 2px 4px rgba(0, 0, 0, 0.3); background-color: #F2EDD7FF; padding: 10px; border-radius: 20px; border: 5px solid #755139FF; width:95%\">Câu 4: Nhận diện lỗi và cải tiến mô hình</p>"
   ]
  },
  {
   "cell_type": "markdown",
   "id": "767805d6",
   "metadata": {},
   "source": [
    "# <p style=\"font-family: 'Amiri'; font-size: 1rem; color: #755139FF; text-align: left; margin: 0; text-shadow: 2px 2px 4px rgba(0, 0, 0, 0.3); background-color: #F2EDD7FF; padding: 10px; border-radius: 20px; border: 3px solid #755139FF; width:95%\">a) Vì sao Accuracy cao nhưng F1-score thấp?</p>\n",
    "\n",
    "Mô hình có Accuracy rất cao nhưng F1-score lại thấp thường xảy ra khi **dữ liệu bị mất cân bằng nghiêm trọng**.\n",
    "\n",
    "**Ví dụ**:  \n",
    "- 95% mẫu là 'không bệnh', chỉ 5% là 'bệnh'.  \n",
    "- Mô hình dự đoán toàn bộ là 'không bệnh' sẽ đạt **Accuracy = 95%**.  \n",
    "- Nhưng lúc này, mô hình **không hề phát hiện bệnh nhân nào** → **Recall = 0**.  \n",
    "- Precision và F1-score cũng thấp → cho thấy **mô hình không hữu ích cho lớp thiểu số**.\n",
    "\n",
    "**F1-score thấp phản ánh rằng mô hình chưa làm tốt trong việc phân loại các trường hợp quan trọng (lớp thiểu số).**\n",
    "\n",
    "\n",
    "# <p style=\"font-family: 'Amiri'; font-size: 1rem; color: #755139FF; text-align: left; margin: 0; text-shadow: 2px 2px 4px rgba(0, 0, 0, 0.3); background-color: #F2EDD7FF; padding: 10px; border-radius: 20px; border: 3px solid #755139FF; width:95%\">b) Các kỹ thuật cải thiện mô hình khi dữ liệu mất cân bằng</p>\n",
    "\n",
    ">**1. Oversampling lớp thiểu số**  \n",
    "- Tăng số lượng mẫu của lớp thiểu số để cân bằng tập dữ liệu.  \n",
    "- Kỹ thuật phổ biến: **SMOTE (Synthetic Minority Over-sampling Technique)** — tạo mẫu mới bằng cách nội suy giữa các điểm gần nhau trong không gian đặc trưng.\n",
    "\n",
    ">**2. Undersampling lớp chiếm đa số**  \n",
    "- Giảm số lượng mẫu của lớp đa số để đạt cân bằng.  \n",
    "- Có thể làm mất đi thông tin quan trọng nếu không cẩn thận.\n",
    "\n",
    ">**3. Sử dụng `class_weight` khi huấn luyện mô hình**  \n",
    "- Gán **trọng số lớn hơn cho lớp thiểu số** trong hàm mất mát.  \n",
    "- Trong thư viện `scikit-learn`, có thể dùng `class_weight='balanced'` hoặc tự định nghĩa theo tỷ lệ mẫu.\n",
    "\n",
    "\n",
    "# <p style=\"font-family: 'Amiri'; font-size: 1rem; color: #755139FF; text-align: left; margin: 0; text-shadow: 2px 2px 4px rgba(0, 0, 0, 0.3); background-color: #F2EDD7FF; padding: 10px; border-radius: 20px; border: 3px solid #755139FF; width:95%\">c) Vì sao Accuracy không phản ánh đúng chất lượng mô hình?</p>\n",
    "\n",
    "Accuracy chỉ đo tỷ lệ tổng thể dự đoán đúng, nhưng **không quan tâm mô hình có làm tốt với lớp quan trọng hay không**.\n",
    "\n",
    "**Ví dụ minh họa**:\n",
    "- Có 1000 email, trong đó 950 là 'not spam', chỉ 50 là 'spam'.  \n",
    "- Mô hình dự đoán tất cả là 'not spam'.  \n",
    "  → **Accuracy = 950 / 1000 = 95%**  \n",
    "  → **Recall = 0** đối với lớp spam (không phát hiện spam nào)  \n",
    "  → **Precision undefined hoặc 0**  \n",
    "  → **F1-score rất thấp**\n",
    "\n",
    "**Kết luận**:  \n",
    "Trong các bài toán **mất cân bằng dữ liệu**, độ chính xác cao **có thể gây hiểu nhầm**. Cần xem xét thêm các độ đo như **Precision, Recall và F1-score** để đánh giá mô hình một cách toàn diện.\n"
   ]
  }
 ],
 "metadata": {
  "kernelspec": {
   "display_name": "base",
   "language": "python",
   "name": "python3"
  },
  "language_info": {
   "codemirror_mode": {
    "name": "ipython",
    "version": 3
   },
   "file_extension": ".py",
   "mimetype": "text/x-python",
   "name": "python",
   "nbconvert_exporter": "python",
   "pygments_lexer": "ipython3",
   "version": "3.11.5"
  }
 },
 "nbformat": 4,
 "nbformat_minor": 5
}
